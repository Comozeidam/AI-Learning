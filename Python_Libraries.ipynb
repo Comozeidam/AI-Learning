{
  "cells": [
    {
      "cell_type": "markdown",
      "metadata": {
        "id": "hdjb4-LEKKbo"
      },
      "source": [
        "# Introduction to NumPy, Pandas, Matplotlib and Seaborn, and Sci-Kit Learn "
      ]
    },
    {
      "cell_type": "code",
      "execution_count": 1,
      "metadata": {
        "id": "O-AY4gAqGBj9"
      },
      "outputs": [],
      "source": [
        "#@title Run this to prepare your data! { display-mode: \"form\" }\n",
        "import gdown\n",
        "gdown.download('https://drive.google.com/uc?id=1eDhwxZxEnMoKcaR-ATW21ReuKdwpMdrF', 'airline-safety.csv', True);\n",
        "gdown.download('https://drive.google.com/uc?id=14FYQvB05JqfU4d1Wn1LSv_Jh0om7AI0M', 'tips.csv', True);"
      ]
    },
    {
      "cell_type": "markdown",
      "metadata": {
        "id": "N0p2aNMyKKbq"
      },
      "source": [
        "Before we set out on our journey into the land of artificial intelligence, we must first pack some gear. \n",
        "Some of the essentials include Numpy, Pandas, Matplotlib, and Seaborn. Let's discuss Python Packages first!\n",
        "\n",
        "### Note: In case of time constraint, only do the sections that have an emoji next to the title.\n",
        "\n",
        "## What are Python Packages? "
      ]
    },
    {
      "cell_type": "markdown",
      "metadata": {
        "id": "G9_3omm0KKbs"
      },
      "source": [
        "A Python package is simply a collection of modules — files consisting of Python code. The packages that we'll be looking at today include Numpy, Pandas, Matplotlib, and Seaborn. Let's begin with NumPy."
      ]
    },
    {
      "cell_type": "markdown",
      "metadata": {
        "id": "YUs6I5u5KKbv"
      },
      "source": [
        "# NumPy: An Introduction  🤖"
      ]
    },
    {
      "cell_type": "markdown",
      "metadata": {
        "id": "yn5x1HxkKKbx"
      },
      "source": [
        "Numpy is the core library for scientific computing in Python. Numpy provides the flexibility to create multidimensional array objects (arrays within arrays) and compute a wide variety of mathematical operations including basic linear algebra, basic statistical operations, random simulation and much more. We will represent all of our data which will be fed into our machine learning models using Numpy."
      ]
    },
    {
      "cell_type": "markdown",
      "metadata": {
        "id": "dNj5CzYeKKb0"
      },
      "source": [
        "We'll start with the standard NumPy import, under the alias np:"
      ]
    },
    {
      "cell_type": "code",
      "execution_count": 2,
      "metadata": {
        "id": "e1NOvv47KKb1"
      },
      "outputs": [],
      "source": [
        "import numpy as np"
      ]
    },
    {
      "cell_type": "markdown",
      "metadata": {
        "id": "0vkg7Br-KKcB"
      },
      "source": [
        "### Arrays 🚖"
      ]
    },
    {
      "cell_type": "markdown",
      "metadata": {
        "id": "NfnHIM-RKKcC"
      },
      "source": [
        "An **array** is simply a collection of items. At the heart of a Numpy library is the array object or the ndarray object (n-dimensional array).  Simply put, it is a table of elements (usually numbers and the same type) indexed by a tuple of positive integers. In NumPy dimensions are called **axes**. The number of axes is referred to as **rank**. \n",
        "<br/>\n",
        "Let's create an 1D array of  **taxi rates** (in dollars) by passing it through a list: "
      ]
    },
    {
      "cell_type": "code",
      "execution_count": 3,
      "metadata": {
        "id": "nDUZfgg5KKcC"
      },
      "outputs": [],
      "source": [
        "a = np.array([12.50, 10.20, 25])"
      ]
    },
    {
      "cell_type": "markdown",
      "metadata": {
        "id": "VeYSYKLwmTx3"
      },
      "source": [
        "We can view the contents of the array by running the following code:"
      ]
    },
    {
      "cell_type": "code",
      "execution_count": 4,
      "metadata": {
        "colab": {
          "base_uri": "https://localhost:8080/"
        },
        "id": "NjUHxfHJKKcE",
        "outputId": "94fa4287-df3a-4883-9be2-4465f706b79c"
      },
      "outputs": [
        {
          "data": {
            "text/plain": [
              "array([12.5, 10.2, 25. ])"
            ]
          },
          "execution_count": 4,
          "metadata": {},
          "output_type": "execute_result"
        }
      ],
      "source": [
        "a"
      ]
    },
    {
      "cell_type": "markdown",
      "metadata": {
        "id": "Yw6X4FpkKKcH"
      },
      "source": [
        "Awesome! 👏 Let's now create an multi-dimensional array. "
      ]
    },
    {
      "cell_type": "code",
      "execution_count": 5,
      "metadata": {
        "id": "zXL1mAmiKKcI"
      },
      "outputs": [],
      "source": [
        "b = np.array([\n",
        "    [19.50, 13, 12, 11 ],\n",
        "    [12.50, 10, 25, 14]])"
      ]
    },
    {
      "cell_type": "markdown",
      "metadata": {
        "id": "I2dG_H82KKcL"
      },
      "source": [
        "## Exercise:  Arrays ⛷"
      ]
    },
    {
      "cell_type": "markdown",
      "metadata": {
        "id": "k_Bai-nKKKcM"
      },
      "source": [
        "Time for our first exercise! \n",
        "- Create a NumPy single - dimensional array and assign it to a variable that describes the following situation:\n",
        "    - Find the weather for the next 5 days in your favorite city, and enter it into the array.\n",
        "- Create another NumPy single - dimensional array and assign it that describes the following situation:\n",
        "    - Write your 5 favorite numbers.\n",
        "- Can you try adding the two arrays? How about subtracting? "
      ]
    },
    {
      "cell_type": "code",
      "execution_count": 6,
      "metadata": {
        "colab": {
          "base_uri": "https://localhost:8080/"
        },
        "id": "bmifbdMnaKJK",
        "outputId": "1dceee87-65f4-4a5c-9ae3-83e78ed06962"
      },
      "outputs": [
        {
          "name": "stdout",
          "output_type": "stream",
          "text": [
            "[  11   13   17   60 2120]\n",
            "[    9     9    11    42 -1898]\n"
          ]
        }
      ],
      "source": [
        "weatherData = np.array([10,11,14,51,111])\n",
        "favNumbers = np.array([1,2,3,9,2009,])\n",
        "arrayAddition = weatherData + favNumbers\n",
        "print(arrayAddition)\n",
        "arraySubtraction = weatherData - favNumbers\n",
        "print(arraySubtraction)\n"
      ]
    },
    {
      "cell_type": "markdown",
      "metadata": {
        "id": "kvgbO5Z_KKcR"
      },
      "source": [
        "### Methods ⛵️"
      ]
    },
    {
      "cell_type": "markdown",
      "metadata": {
        "id": "7HZaOocAKKcR"
      },
      "source": [
        "🎉 Let's now explore some of the methods in NumPy. The [**.shape**](https://docs.scipy.org/doc/numpy/reference/generated/numpy.ndarray.shape.html) method for nparray returns the dimensions of the given array. For example, [x].shape returns the (vertical, horizontal) dimensions of the variable x. Let's use .shape to find the dimensions of the multi-dimensional array that we've created above:\n",
        "\n",
        "_Can you guess the shape before running the command?_"
      ]
    },
    {
      "cell_type": "code",
      "execution_count": 7,
      "metadata": {
        "colab": {
          "base_uri": "https://localhost:8080/"
        },
        "id": "wqNlN3rOKKcS",
        "outputId": "49248d57-7e6c-4177-9299-ded9de900e9e"
      },
      "outputs": [
        {
          "data": {
            "text/plain": [
              "(2, 4)"
            ]
          },
          "execution_count": 7,
          "metadata": {},
          "output_type": "execute_result"
        }
      ],
      "source": [
        "b.shape"
      ]
    },
    {
      "cell_type": "markdown",
      "metadata": {
        "id": "3jMyi9hVmynw"
      },
      "source": [
        "Note that multi-dimensional arrays can also have more than two dimensions. A three-dimensional array, for example, has arrays within arrays within arrays. Calling array.shape on a 3-dimensional array would return three numbers: (num1, num2, num3).\n",
        " \n",
        "**Make sure you understand the concept of shapes because this will come up again and again throughout your machine learning experience!**"
      ]
    },
    {
      "cell_type": "markdown",
      "metadata": {
        "id": "wc48ME-lKKcT"
      },
      "source": [
        "The [**.linspace**](https://docs.scipy.org/doc/numpy/reference/generated/numpy.linspace.html) method is used to return evenly spaced numbers over a specified interval. Let's create an array of 6 integers between 0 and 100 to demonstrate this method: "
      ]
    },
    {
      "cell_type": "code",
      "execution_count": 8,
      "metadata": {
        "colab": {
          "base_uri": "https://localhost:8080/"
        },
        "id": "FnUeQq9wKKcU",
        "outputId": "ddb0b1a8-1b39-4227-833d-a0fa680e5c15",
        "scrolled": true
      },
      "outputs": [
        {
          "data": {
            "text/plain": [
              "array([ 99. ,  99.5, 100. ])"
            ]
          },
          "execution_count": 8,
          "metadata": {},
          "output_type": "execute_result"
        }
      ],
      "source": [
        "np.linspace(99,100,3)"
      ]
    },
    {
      "cell_type": "markdown",
      "metadata": {
        "id": "087T2UAcKKcW"
      },
      "source": [
        "How about if we wanted to decide the step? The [**.arange**](https://docs.scipy.org/doc/numpy/reference/generated/numpy.linspace.html) method allows us to return evenly spaced values within an given interval. "
      ]
    },
    {
      "cell_type": "code",
      "execution_count": 9,
      "metadata": {
        "colab": {
          "base_uri": "https://localhost:8080/"
        },
        "id": "-f6sV7WmKKcW",
        "outputId": "7f388f26-fd98-44d8-c33f-c40c72d24a58"
      },
      "outputs": [
        {
          "data": {
            "text/plain": [
              "array([0, 1, 2, 3, 4, 5, 6, 7, 8, 9])"
            ]
          },
          "execution_count": 9,
          "metadata": {},
          "output_type": "execute_result"
        }
      ],
      "source": [
        "np.arange(0,10,1)"
      ]
    },
    {
      "cell_type": "markdown",
      "metadata": {
        "id": "5S10euQrKKcY"
      },
      "source": [
        "Yay! 🙌 What if we didn't want to define the interval or the step? The [**.random.rand**](https://docs.scipy.org/doc/numpy/reference/generated/numpy.random.rand.html) method accomplishes this purpose by creating an array of a specified shape and fills it with random values. Let's create a 4 x 5 array of random floats between 0-1:"
      ]
    },
    {
      "cell_type": "code",
      "execution_count": 10,
      "metadata": {
        "colab": {
          "base_uri": "https://localhost:8080/"
        },
        "id": "GnqUmK-4KKcZ",
        "outputId": "ff02bbac-f2be-477e-fd0b-ac2647783a72",
        "scrolled": true
      },
      "outputs": [
        {
          "data": {
            "text/plain": [
              "array([[0.60609497, 0.76773528, 0.01755826, 0.1148357 , 0.15614077],\n",
              "       [0.10291143, 0.07968482, 0.92325332, 0.93386647, 0.50673787],\n",
              "       [0.09285459, 0.28404898, 0.49466283, 0.71035813, 0.93863058],\n",
              "       [0.06945224, 0.07194244, 0.65698532, 0.66156494, 0.56249649]])"
            ]
          },
          "execution_count": 10,
          "metadata": {},
          "output_type": "execute_result"
        }
      ],
      "source": [
        "np.random.rand(4,5)"
      ]
    },
    {
      "cell_type": "markdown",
      "metadata": {
        "id": "mA9K9rq_KKcb"
      },
      "source": [
        "If we want to increase the size of the floats between an certain interval (0-100), we can simply multiply by the highest digit in that interval: "
      ]
    },
    {
      "cell_type": "code",
      "execution_count": 11,
      "metadata": {
        "colab": {
          "base_uri": "https://localhost:8080/"
        },
        "id": "WNPNeWe7KKcc",
        "outputId": "1e1587e5-cdb2-4b92-9727-0c235aeb7757"
      },
      "outputs": [
        {
          "data": {
            "text/plain": [
              "array([[34.24711498, 69.29321038, 88.37251795, 29.00583594, 58.80152955],\n",
              "       [20.76939357, 61.07799075, 27.14534983, 62.00067654, 21.70769503],\n",
              "       [25.48420535, 59.94282324, 88.53803093,  0.66938268, 53.0853299 ],\n",
              "       [46.16047125, 26.46481679, 26.66717316, 95.93581256, 36.90305333]])"
            ]
          },
          "execution_count": 11,
          "metadata": {},
          "output_type": "execute_result"
        }
      ],
      "source": [
        "np.random.rand(4,5)*100"
      ]
    },
    {
      "cell_type": "markdown",
      "metadata": {
        "id": "syIDcJjWnaMl"
      },
      "source": [
        "Notice how the numbers when you call the random function are different the second time. This is because it generates new numbers each time."
      ]
    },
    {
      "cell_type": "markdown",
      "metadata": {
        "id": "C1huCd_VKKce"
      },
      "source": [
        "We can also explore some of the properties of the array. The [**.dtype**](https://docs.scipy.org/doc/numpy/reference/arrays.dtypes.html)  method outputs the type of elements in an given array:"
      ]
    },
    {
      "cell_type": "code",
      "execution_count": 12,
      "metadata": {
        "id": "9iOKWg0RKKce"
      },
      "outputs": [],
      "source": [
        "c = np.arange(0,10,3)"
      ]
    },
    {
      "cell_type": "code",
      "execution_count": 13,
      "metadata": {
        "colab": {
          "base_uri": "https://localhost:8080/"
        },
        "id": "epO-qdqMKKcf",
        "outputId": "f8a4d924-413a-435b-fc62-3a6b4adf0b70"
      },
      "outputs": [
        {
          "data": {
            "text/plain": [
              "dtype('int32')"
            ]
          },
          "execution_count": 13,
          "metadata": {},
          "output_type": "execute_result"
        }
      ],
      "source": [
        "c.dtype"
      ]
    },
    {
      "cell_type": "markdown",
      "metadata": {
        "id": "5t-BnlMuKKci"
      },
      "source": [
        "Kudos! **int64** simply means that the elements in the array are integers. Remember that NumPy arrays only support an *singular* data type for each array unlike Python arrays. Other data types include **float64** and **double64**, which are used to specify numbers with decimals (**int64**s must be whole numbers)."
      ]
    },
    {
      "cell_type": "markdown",
      "metadata": {
        "id": "7hw-t9USKKci"
      },
      "source": [
        "## Exercise: Methods 🏃"
      ]
    },
    {
      "cell_type": "markdown",
      "metadata": {
        "id": "XYiYhMliKKci"
      },
      "source": [
        "Time to test our skills!"
      ]
    },
    {
      "cell_type": "markdown",
      "metadata": {
        "id": "McnS13TaKKcj"
      },
      "source": [
        "- Using the **.shape** method, find the dimensions of the array containing the weather of your favorite city. \n",
        "- Use the **.linspace** method to create an array of 5 evenly-spaced integers between 15 and 45\n",
        "- Create a 3x6 array using the **.random.rand()** method"
      ]
    },
    {
      "cell_type": "code",
      "execution_count": 14,
      "metadata": {
        "colab": {
          "base_uri": "https://localhost:8080/"
        },
        "id": "KHvHJkde1axp",
        "outputId": "af43a596-ff4e-4de9-dbf3-96cd02975607"
      },
      "outputs": [
        {
          "name": "stdout",
          "output_type": "stream",
          "text": [
            "(5,)\n"
          ]
        },
        {
          "data": {
            "text/plain": [
              "array([[0.4629318 , 0.01351416, 0.55029897, 0.9374884 , 0.29214067,\n",
              "        0.02662241],\n",
              "       [0.54790834, 0.4838577 , 0.99090078, 0.84689509, 0.11000035,\n",
              "        0.53047304],\n",
              "       [0.93156385, 0.48416526, 0.47456158, 0.2161943 , 0.94510487,\n",
              "        0.92595333]])"
            ]
          },
          "execution_count": 14,
          "metadata": {},
          "output_type": "execute_result"
        }
      ],
      "source": [
        "print(weatherData.shape)\n",
        "np.linspace(15,45,5)\n",
        "np.random.rand(3,6)"
      ]
    },
    {
      "cell_type": "markdown",
      "metadata": {
        "id": "NMzjIw1KKKcl"
      },
      "source": [
        "## Operations "
      ]
    },
    {
      "cell_type": "markdown",
      "metadata": {
        "id": "CC561yHBKKcl"
      },
      "source": [
        "NumPy offers the ability to compute arrays together. "
      ]
    },
    {
      "cell_type": "code",
      "execution_count": 15,
      "metadata": {
        "id": "f33m7hEfKKcl"
      },
      "outputs": [],
      "source": [
        "x = np.array([3,4,5])"
      ]
    },
    {
      "cell_type": "code",
      "execution_count": 16,
      "metadata": {
        "id": "vw3NHRzzKKcm"
      },
      "outputs": [],
      "source": [
        "y = np.array([1,2,3])"
      ]
    },
    {
      "cell_type": "markdown",
      "metadata": {
        "id": "S6lON11SKKcn"
      },
      "source": [
        "We can use traditional math symbols to add, subtract, multiply, and divide the two arrays: "
      ]
    },
    {
      "cell_type": "code",
      "execution_count": 17,
      "metadata": {
        "colab": {
          "base_uri": "https://localhost:8080/"
        },
        "id": "bQJyXZ7jKKcn",
        "outputId": "78cfebdf-8d17-40ec-9019-ba95666ebc49"
      },
      "outputs": [
        {
          "name": "stdout",
          "output_type": "stream",
          "text": [
            "[4 6 8]\n",
            "[2 2 2]\n",
            "[ 3  8 15]\n",
            "[3.         2.         1.66666667]\n",
            "[ 9 16 25]\n"
          ]
        }
      ],
      "source": [
        "print(x + y)\n",
        "print(x - y)\n",
        "print(x * y)\n",
        "print(x / y)\n",
        "print(x**2)"
      ]
    },
    {
      "cell_type": "markdown",
      "metadata": {
        "id": "NA9kJJ3WKKcp"
      },
      "source": [
        "## Scalar Math"
      ]
    },
    {
      "cell_type": "markdown",
      "metadata": {
        "id": "RU3du0U6KKcp"
      },
      "source": [
        "We can use basic functions to add, subtract, multiply, divide, and power the array:\n",
        "\n",
        "_Can you guess the output before running command?_"
      ]
    },
    {
      "cell_type": "code",
      "execution_count": 18,
      "metadata": {
        "colab": {
          "base_uri": "https://localhost:8080/"
        },
        "id": "Ty8_QhprKKcp",
        "outputId": "6b1129bf-6710-41ae-ff61-10be475278dd"
      },
      "outputs": [
        {
          "data": {
            "text/plain": [
              "array([4, 5, 6])"
            ]
          },
          "execution_count": 18,
          "metadata": {},
          "output_type": "execute_result"
        }
      ],
      "source": [
        "np.add(x,1)"
      ]
    },
    {
      "cell_type": "code",
      "execution_count": 19,
      "metadata": {
        "colab": {
          "base_uri": "https://localhost:8080/"
        },
        "id": "6Z4nK4UDKKcr",
        "outputId": "a6bacbd8-5f42-4aaa-8100-8e51c3015bd2"
      },
      "outputs": [
        {
          "data": {
            "text/plain": [
              "array([1, 2, 3])"
            ]
          },
          "execution_count": 19,
          "metadata": {},
          "output_type": "execute_result"
        }
      ],
      "source": [
        "np.subtract(x,2)"
      ]
    },
    {
      "cell_type": "code",
      "execution_count": 20,
      "metadata": {
        "colab": {
          "base_uri": "https://localhost:8080/"
        },
        "id": "W8xNSNODKKcs",
        "outputId": "662617d3-fcbd-4252-95f3-cda91cd152d4"
      },
      "outputs": [
        {
          "data": {
            "text/plain": [
              "array([ 9, 12, 15])"
            ]
          },
          "execution_count": 20,
          "metadata": {},
          "output_type": "execute_result"
        }
      ],
      "source": [
        "np.multiply(x,3)"
      ]
    },
    {
      "cell_type": "code",
      "execution_count": 21,
      "metadata": {
        "colab": {
          "base_uri": "https://localhost:8080/"
        },
        "id": "qTGgDdteKKct",
        "outputId": "67a75823-1c25-45bc-bba6-c0c81875c591"
      },
      "outputs": [
        {
          "data": {
            "text/plain": [
              "array([0.75, 1.  , 1.25])"
            ]
          },
          "execution_count": 21,
          "metadata": {},
          "output_type": "execute_result"
        }
      ],
      "source": [
        "np.divide(x,4)"
      ]
    },
    {
      "cell_type": "code",
      "execution_count": 22,
      "metadata": {
        "colab": {
          "base_uri": "https://localhost:8080/"
        },
        "id": "u-Cf5OfBKKcu",
        "outputId": "83a7d0d7-6d6d-44ca-82f0-b3ffab8eb499"
      },
      "outputs": [
        {
          "data": {
            "text/plain": [
              "array([ 243, 1024, 3125], dtype=int32)"
            ]
          },
          "execution_count": 22,
          "metadata": {},
          "output_type": "execute_result"
        }
      ],
      "source": [
        "np.power(x,5)"
      ]
    },
    {
      "cell_type": "markdown",
      "metadata": {
        "id": "SfOGy3YXKKcv"
      },
      "source": [
        "## Indexing, Slicing and Reshaping 🔭"
      ]
    },
    {
      "cell_type": "markdown",
      "metadata": {
        "id": "oGZo5zPWKKcw"
      },
      "source": [
        "Now, we're going to explore some of the functions in Python. First, let's create an array with 12 numbers using the **arange** method in increments of 5:"
      ]
    },
    {
      "cell_type": "code",
      "execution_count": 23,
      "metadata": {
        "colab": {
          "base_uri": "https://localhost:8080/"
        },
        "id": "u8nJkGpqKKcw",
        "outputId": "20dfaf3e-8d81-4e52-9479-7795d0a24174"
      },
      "outputs": [
        {
          "data": {
            "text/plain": [
              "array([ 0,  5, 10, 15, 20, 25, 30, 35, 40, 45, 50, 55])"
            ]
          },
          "execution_count": 23,
          "metadata": {},
          "output_type": "execute_result"
        }
      ],
      "source": [
        "s = np.arange(12)*5 # note this is same as np.arange(0,12,1)*5\n",
        "s"
      ]
    },
    {
      "cell_type": "markdown",
      "metadata": {
        "id": "KFKdNcVCKKcx"
      },
      "source": [
        "**Indexing** refers to retrieving a specific element of an array. Let's find the 3rd value in the above array:"
      ]
    },
    {
      "cell_type": "code",
      "execution_count": 24,
      "metadata": {
        "colab": {
          "base_uri": "https://localhost:8080/"
        },
        "id": "it-5rQ-AKKcx",
        "outputId": "7b4eaa45-3bca-46ce-f7c9-297ab9dac751"
      },
      "outputs": [
        {
          "data": {
            "text/plain": [
              "10"
            ]
          },
          "execution_count": 24,
          "metadata": {},
          "output_type": "execute_result"
        }
      ],
      "source": [
        "s[2]"
      ]
    },
    {
      "cell_type": "markdown",
      "metadata": {
        "id": "40b-h-2JKKcy"
      },
      "source": [
        "**Note**: The values of an array always start with x[0]. We can also retrieve values within an certain range using the **:** symbol:"
      ]
    },
    {
      "cell_type": "code",
      "execution_count": 25,
      "metadata": {
        "colab": {
          "base_uri": "https://localhost:8080/"
        },
        "id": "2BP_MEpXKKcz",
        "outputId": "26db4710-b9e8-4b05-82b2-249bafe6f197"
      },
      "outputs": [
        {
          "data": {
            "text/plain": [
              "array([10, 15, 20])"
            ]
          },
          "execution_count": 25,
          "metadata": {},
          "output_type": "execute_result"
        }
      ],
      "source": [
        "s[2:5]"
      ]
    },
    {
      "cell_type": "markdown",
      "metadata": {
        "id": "0f4WW1dyKKc0"
      },
      "source": [
        "😎 Now, let's try combining two arrays using [**concatenate( )**](https://docs.scipy.org/doc/numpy/reference/generated/numpy.concatenate.html) and add 'a' as rows to the end of 's':"
      ]
    },
    {
      "cell_type": "code",
      "execution_count": 26,
      "metadata": {
        "colab": {
          "base_uri": "https://localhost:8080/"
        },
        "id": "zZhuYVWVKKc0",
        "outputId": "1cd2e6e9-945f-4d8a-d1bc-36414984242e"
      },
      "outputs": [
        {
          "data": {
            "text/plain": [
              "array([ 0. ,  5. , 10. , 15. , 20. , 25. , 30. , 35. , 40. , 45. , 50. ,\n",
              "       55. , 12.5, 10.2, 25. ])"
            ]
          },
          "execution_count": 26,
          "metadata": {},
          "output_type": "execute_result"
        }
      ],
      "source": [
        "np.concatenate((s,a))"
      ]
    },
    {
      "cell_type": "markdown",
      "metadata": {
        "id": "Lzdq-SN9KKc1"
      },
      "source": [
        "🙌 How about splitting arrays? We can use the [**.split()**](https://docs.scipy.org/doc/numpy/reference/generated/numpy.concatenate.html) method to split the s array in sub-arrays:"
      ]
    },
    {
      "cell_type": "code",
      "execution_count": 27,
      "metadata": {
        "colab": {
          "base_uri": "https://localhost:8080/"
        },
        "id": "iFxWISKcKKc2",
        "outputId": "c693b8e6-5a92-438a-b57d-5d8580551f73"
      },
      "outputs": [
        {
          "data": {
            "text/plain": [
              "array([0., 1., 2., 3., 4., 5., 6., 7., 8.])"
            ]
          },
          "execution_count": 27,
          "metadata": {},
          "output_type": "execute_result"
        }
      ],
      "source": [
        "z = np.arange(9.0)\n",
        "z"
      ]
    },
    {
      "cell_type": "code",
      "execution_count": 28,
      "metadata": {
        "id": "_JM8BwQcKKc3"
      },
      "outputs": [],
      "source": [
        "split_arr = np.split(z, 3)"
      ]
    },
    {
      "cell_type": "code",
      "execution_count": 29,
      "metadata": {
        "colab": {
          "base_uri": "https://localhost:8080/"
        },
        "id": "7hddEf4zFL7L",
        "outputId": "4df3c612-9238-49e2-f65a-4b6f709eeaa3"
      },
      "outputs": [
        {
          "data": {
            "text/plain": [
              "[array([0., 1., 2.]), array([3., 4., 5.]), array([6., 7., 8.])]"
            ]
          },
          "execution_count": 29,
          "metadata": {},
          "output_type": "execute_result"
        }
      ],
      "source": [
        "split_arr"
      ]
    },
    {
      "cell_type": "markdown",
      "metadata": {
        "id": "xxIhNlDNE28F"
      },
      "source": [
        "**What do y'all think the shape of the above array is?**"
      ]
    },
    {
      "cell_type": "code",
      "execution_count": 30,
      "metadata": {
        "colab": {
          "base_uri": "https://localhost:8080/"
        },
        "id": "Rv6OJqbZFOp6",
        "outputId": "ac1bd5c8-d1d0-4215-bb11-f5aa36f28ea0"
      },
      "outputs": [
        {
          "data": {
            "text/plain": [
              "(3, 3)"
            ]
          },
          "execution_count": 30,
          "metadata": {},
          "output_type": "execute_result"
        }
      ],
      "source": [
        "np.array(split_arr).shape"
      ]
    },
    {
      "cell_type": "markdown",
      "metadata": {
        "id": "GAZ7v5w8KKc4"
      },
      "source": [
        "## Exercise: Indexing, Slicing and Reshaping"
      ]
    },
    {
      "cell_type": "markdown",
      "metadata": {
        "id": "5bAZWakZKKc4"
      },
      "source": [
        "Time for a test!"
      ]
    },
    {
      "cell_type": "markdown",
      "metadata": {
        "id": "yGbwUaHwKKc4"
      },
      "source": [
        "- Using the **arange** method, create an array of 5 numbers in increments of 10. Call it 'oreo'\n",
        "- Retrieve the 3rd number in the above array named 'oreo'\n",
        "- Create another array of 5 numbers in increments of 15. Use any method you like and call it 'milk'\n",
        "- Retrive the 1st number in the above array named 'milk' <br>\n",
        "Can you eat those many oreos and drink that many cups of milk? You decide! 🥛 "
      ]
    },
    {
      "cell_type": "code",
      "execution_count": 31,
      "metadata": {
        "colab": {
          "base_uri": "https://localhost:8080/"
        },
        "id": "JDFY9uNd1gTS",
        "outputId": "8ddb2e54-a5ac-49bf-f97d-3518c13e0a01"
      },
      "outputs": [
        {
          "data": {
            "text/plain": [
              "array([ 0, 10, 20, 30, 40])"
            ]
          },
          "execution_count": 31,
          "metadata": {},
          "output_type": "execute_result"
        }
      ],
      "source": [
        "oreo = np.arange(5,)*10\n",
        "oreo"
      ]
    },
    {
      "cell_type": "code",
      "execution_count": 32,
      "metadata": {
        "colab": {
          "base_uri": "https://localhost:8080/"
        },
        "id": "GJIsd7li1g7r",
        "outputId": "8a68ecef-15f5-40b7-a67d-61661b014933"
      },
      "outputs": [
        {
          "data": {
            "text/plain": [
              "20"
            ]
          },
          "execution_count": 32,
          "metadata": {},
          "output_type": "execute_result"
        }
      ],
      "source": [
        "oreo[2]"
      ]
    },
    {
      "cell_type": "code",
      "execution_count": 33,
      "metadata": {
        "colab": {
          "base_uri": "https://localhost:8080/"
        },
        "id": "p8kCdGOT1hPs",
        "outputId": "c6cfa835-5d5e-472f-d8db-f0faa06b7f0d"
      },
      "outputs": [
        {
          "data": {
            "text/plain": [
              "array([ 0,  5, 10, 15, 20, 25, 30, 35, 40, 45, 50, 55, 60, 65, 70])"
            ]
          },
          "execution_count": 33,
          "metadata": {},
          "output_type": "execute_result"
        }
      ],
      "source": [
        "milk = np.arange(15)*5\n",
        "milk"
      ]
    },
    {
      "cell_type": "code",
      "execution_count": 34,
      "metadata": {
        "colab": {
          "base_uri": "https://localhost:8080/"
        },
        "id": "_Ai9MPyD1hcU",
        "outputId": "e2737923-87f4-404a-a23f-b71c5e0e3c4e"
      },
      "outputs": [
        {
          "data": {
            "text/plain": [
              "0"
            ]
          },
          "execution_count": 34,
          "metadata": {},
          "output_type": "execute_result"
        }
      ],
      "source": [
        "milk[0]"
      ]
    },
    {
      "cell_type": "markdown",
      "metadata": {
        "id": "eqbcMLWOKKc4"
      },
      "source": [
        "😀 We've completed our review of NumPy! After you take a quick break - walk around, drink water - let's move on to Pandas. "
      ]
    },
    {
      "cell_type": "markdown",
      "metadata": {
        "id": "WfqaMtQ-KKc4"
      },
      "source": [
        "# Pandas: An Introduction 🐼 "
      ]
    },
    {
      "cell_type": "markdown",
      "metadata": {
        "id": "fdnANq-9KKc5"
      },
      "source": [
        "Pandas is an open source Python package that provides numerous tools for data analysis. Pandas provides </br> fast, flexible, and expressive data structures designed to make working with structured (tabular, multidimensional, potentially heterogeneous) and time series data both easy and intuitive. It aims to be the fundamental high-level building block for doing practical, real world data analysis in Python. \n",
        "\n",
        "We'll take look at some of the core ideas in Pandas here. You can learn more about Pandas in their official [documentation](http://pandas.pydata.org)."
      ]
    },
    {
      "cell_type": "markdown",
      "metadata": {
        "id": "4DM2GJ-9KKc5"
      },
      "source": [
        "## [Pandas Series](https://pandas.pydata.org/pandas-docs/stable/reference/api/pandas.Series.html) ❄️"
      ]
    },
    {
      "cell_type": "markdown",
      "metadata": {
        "id": "zqgi1nU3KKc5"
      },
      "source": [
        "A **Series** is similar to an one dimensional array and can store data of any type. The values of a Pandas Series are mutable but the size of a Series is immutable and cannot be changed.<br>\n",
        "The first element in the series is assigned the index 0, while the last element is at index N-1, where N is the total number of elements in the series."
      ]
    },
    {
      "cell_type": "markdown",
      "metadata": {
        "id": "6VIa2HCGKKc5"
      },
      "source": [
        "Let's first **import** pandas under the common alias **pd**:"
      ]
    },
    {
      "cell_type": "code",
      "execution_count": 35,
      "metadata": {
        "id": "9VyI95ekKKc5"
      },
      "outputs": [],
      "source": [
        "import pandas as pd"
      ]
    },
    {
      "cell_type": "markdown",
      "metadata": {
        "id": "EO-qBtXSKKc6"
      },
      "source": [
        "### Creating a Pandas Series"
      ]
    },
    {
      "cell_type": "markdown",
      "metadata": {
        "id": "EhnXEyJhKKc6"
      },
      "source": [
        "We can create a series by invoking the pd.Series( ) method, like this: "
      ]
    },
    {
      "cell_type": "code",
      "execution_count": 36,
      "metadata": {
        "id": "M5ib0-EyKKc6"
      },
      "outputs": [],
      "source": [
        "decades = pd.Series(np.array([10,20,30,40,50,60])) "
      ]
    },
    {
      "cell_type": "code",
      "execution_count": 37,
      "metadata": {
        "colab": {
          "base_uri": "https://localhost:8080/"
        },
        "id": "3ySUr90TKKc7",
        "outputId": "8bebe55b-3daa-4b36-9dbe-75176d13cda5"
      },
      "outputs": [
        {
          "data": {
            "text/plain": [
              "0    10\n",
              "1    20\n",
              "2    30\n",
              "3    40\n",
              "4    50\n",
              "5    60\n",
              "dtype: int32"
            ]
          },
          "execution_count": 37,
          "metadata": {},
          "output_type": "execute_result"
        }
      ],
      "source": [
        "decades"
      ]
    },
    {
      "cell_type": "markdown",
      "metadata": {
        "id": "iQVRDE8hKKc8"
      },
      "source": [
        "As shown above, the index is assigned values from 0-5. "
      ]
    },
    {
      "cell_type": "markdown",
      "metadata": {
        "id": "87_wqVs5KKc8"
      },
      "source": [
        "## Exercise: Pandas Series🎿"
      ]
    },
    {
      "cell_type": "markdown",
      "metadata": {
        "id": "REG7WpeOKKc8"
      },
      "source": [
        "Exercise time!"
      ]
    },
    {
      "cell_type": "markdown",
      "metadata": {
        "id": "nOpmyZmPKKc9"
      },
      "source": [
        "- Create a Series for the lowest GDP's in the world:\n",
        "    - Czech Republic: 264.50\n",
        "    - Iraq:\t250.07\n",
        "    - Romania: 248.84\n",
        "    - Portugal:\t242.83\t\n",
        "\n",
        "Tip: See what arguments are available in [pd.Series](https://pandas.pydata.org/pandas-docs/stable/reference/api/pandas.Series.html) and use the countries as the index."
      ]
    },
    {
      "cell_type": "code",
      "execution_count": null,
      "metadata": {
        "id": "IZ-XaNVc1n21"
      },
      "outputs": [],
      "source": [
        "GDP = pd.Series(np.array([264]))"
      ]
    },
    {
      "cell_type": "markdown",
      "metadata": {
        "id": "2jjaY7yYKKc9"
      },
      "source": [
        "## [Pandas DataFrame](https://pandas.pydata.org/pandas-docs/stable/reference/api/pandas.DataFrame.html) 🐨"
      ]
    },
    {
      "cell_type": "markdown",
      "metadata": {
        "id": "ASC15gj_KKc9"
      },
      "source": [
        "The DataFrame is similar to a table. It organizes data into rows and columns as an two-dimensional data structure. The columns can be of different types, and the size of a DataFrame is modifiable. <br>\n",
        "Let's create a DataFrame of 14 animals, populated with age, weight, and length. <br> First, let's create a Python dictionary. "
      ]
    },
    {
      "cell_type": "code",
      "execution_count": null,
      "metadata": {
        "id": "vNcT0_XVKKc9"
      },
      "outputs": [],
      "source": [
        "animal_dict = {\n",
        "     'Animal' : [\"Hamster\", \"Alligator\", \"Hamster\",\"Cat\", \"Snake\", \"Cat\",\"Hamster\", \"Cat\", \"Cat\", \"Snake\", \"Hamster\", \"Hamster\", \"Cat\", \"Alligator\"],\n",
        "     'Age' : [1,9,4,13,14,10,2,4,14,7,14,2,1,7],\n",
        "     'Weight': [7,13,8,12,11,8,10,14,9,11,10,10,9,14], \n",
        "     'Length' : [8,6,9,1,8,9,5,6,6,6,5,3,4,5] \n",
        "}"
      ]
    },
    {
      "cell_type": "markdown",
      "metadata": {
        "id": "ZDTmV7eEKKc-"
      },
      "source": [
        "Now, let's turn our Python dictionary into a DataFrame:"
      ]
    },
    {
      "cell_type": "code",
      "execution_count": null,
      "metadata": {
        "colab": {
          "base_uri": "https://localhost:8080/",
          "height": 487
        },
        "id": "UzIddfJFKKc-",
        "outputId": "ebfa14ad-c119-478a-dfee-219450524ddd"
      },
      "outputs": [
        {
          "data": {
            "text/html": [
              "\n",
              "  <div id=\"df-55dd0a5e-e470-4d58-9590-05720ad735d8\">\n",
              "    <div class=\"colab-df-container\">\n",
              "      <div>\n",
              "<style scoped>\n",
              "    .dataframe tbody tr th:only-of-type {\n",
              "        vertical-align: middle;\n",
              "    }\n",
              "\n",
              "    .dataframe tbody tr th {\n",
              "        vertical-align: top;\n",
              "    }\n",
              "\n",
              "    .dataframe thead th {\n",
              "        text-align: right;\n",
              "    }\n",
              "</style>\n",
              "<table border=\"1\" class=\"dataframe\">\n",
              "  <thead>\n",
              "    <tr style=\"text-align: right;\">\n",
              "      <th></th>\n",
              "      <th>Animal</th>\n",
              "      <th>Age</th>\n",
              "      <th>Weight</th>\n",
              "      <th>Length</th>\n",
              "    </tr>\n",
              "  </thead>\n",
              "  <tbody>\n",
              "    <tr>\n",
              "      <th>0</th>\n",
              "      <td>Hamster</td>\n",
              "      <td>1</td>\n",
              "      <td>7</td>\n",
              "      <td>8</td>\n",
              "    </tr>\n",
              "    <tr>\n",
              "      <th>1</th>\n",
              "      <td>Alligator</td>\n",
              "      <td>9</td>\n",
              "      <td>13</td>\n",
              "      <td>6</td>\n",
              "    </tr>\n",
              "    <tr>\n",
              "      <th>2</th>\n",
              "      <td>Hamster</td>\n",
              "      <td>4</td>\n",
              "      <td>8</td>\n",
              "      <td>9</td>\n",
              "    </tr>\n",
              "    <tr>\n",
              "      <th>3</th>\n",
              "      <td>Cat</td>\n",
              "      <td>13</td>\n",
              "      <td>12</td>\n",
              "      <td>1</td>\n",
              "    </tr>\n",
              "    <tr>\n",
              "      <th>4</th>\n",
              "      <td>Snake</td>\n",
              "      <td>14</td>\n",
              "      <td>11</td>\n",
              "      <td>8</td>\n",
              "    </tr>\n",
              "    <tr>\n",
              "      <th>5</th>\n",
              "      <td>Cat</td>\n",
              "      <td>10</td>\n",
              "      <td>8</td>\n",
              "      <td>9</td>\n",
              "    </tr>\n",
              "    <tr>\n",
              "      <th>6</th>\n",
              "      <td>Hamster</td>\n",
              "      <td>2</td>\n",
              "      <td>10</td>\n",
              "      <td>5</td>\n",
              "    </tr>\n",
              "    <tr>\n",
              "      <th>7</th>\n",
              "      <td>Cat</td>\n",
              "      <td>4</td>\n",
              "      <td>14</td>\n",
              "      <td>6</td>\n",
              "    </tr>\n",
              "    <tr>\n",
              "      <th>8</th>\n",
              "      <td>Cat</td>\n",
              "      <td>14</td>\n",
              "      <td>9</td>\n",
              "      <td>6</td>\n",
              "    </tr>\n",
              "    <tr>\n",
              "      <th>9</th>\n",
              "      <td>Snake</td>\n",
              "      <td>7</td>\n",
              "      <td>11</td>\n",
              "      <td>6</td>\n",
              "    </tr>\n",
              "    <tr>\n",
              "      <th>10</th>\n",
              "      <td>Hamster</td>\n",
              "      <td>14</td>\n",
              "      <td>10</td>\n",
              "      <td>5</td>\n",
              "    </tr>\n",
              "    <tr>\n",
              "      <th>11</th>\n",
              "      <td>Hamster</td>\n",
              "      <td>2</td>\n",
              "      <td>10</td>\n",
              "      <td>3</td>\n",
              "    </tr>\n",
              "    <tr>\n",
              "      <th>12</th>\n",
              "      <td>Cat</td>\n",
              "      <td>1</td>\n",
              "      <td>9</td>\n",
              "      <td>4</td>\n",
              "    </tr>\n",
              "    <tr>\n",
              "      <th>13</th>\n",
              "      <td>Alligator</td>\n",
              "      <td>7</td>\n",
              "      <td>14</td>\n",
              "      <td>5</td>\n",
              "    </tr>\n",
              "  </tbody>\n",
              "</table>\n",
              "</div>\n",
              "      <button class=\"colab-df-convert\" onclick=\"convertToInteractive('df-55dd0a5e-e470-4d58-9590-05720ad735d8')\"\n",
              "              title=\"Convert this dataframe to an interactive table.\"\n",
              "              style=\"display:none;\">\n",
              "        \n",
              "  <svg xmlns=\"http://www.w3.org/2000/svg\" height=\"24px\"viewBox=\"0 0 24 24\"\n",
              "       width=\"24px\">\n",
              "    <path d=\"M0 0h24v24H0V0z\" fill=\"none\"/>\n",
              "    <path d=\"M18.56 5.44l.94 2.06.94-2.06 2.06-.94-2.06-.94-.94-2.06-.94 2.06-2.06.94zm-11 1L8.5 8.5l.94-2.06 2.06-.94-2.06-.94L8.5 2.5l-.94 2.06-2.06.94zm10 10l.94 2.06.94-2.06 2.06-.94-2.06-.94-.94-2.06-.94 2.06-2.06.94z\"/><path d=\"M17.41 7.96l-1.37-1.37c-.4-.4-.92-.59-1.43-.59-.52 0-1.04.2-1.43.59L10.3 9.45l-7.72 7.72c-.78.78-.78 2.05 0 2.83L4 21.41c.39.39.9.59 1.41.59.51 0 1.02-.2 1.41-.59l7.78-7.78 2.81-2.81c.8-.78.8-2.07 0-2.86zM5.41 20L4 18.59l7.72-7.72 1.47 1.35L5.41 20z\"/>\n",
              "  </svg>\n",
              "      </button>\n",
              "      \n",
              "  <style>\n",
              "    .colab-df-container {\n",
              "      display:flex;\n",
              "      flex-wrap:wrap;\n",
              "      gap: 12px;\n",
              "    }\n",
              "\n",
              "    .colab-df-convert {\n",
              "      background-color: #E8F0FE;\n",
              "      border: none;\n",
              "      border-radius: 50%;\n",
              "      cursor: pointer;\n",
              "      display: none;\n",
              "      fill: #1967D2;\n",
              "      height: 32px;\n",
              "      padding: 0 0 0 0;\n",
              "      width: 32px;\n",
              "    }\n",
              "\n",
              "    .colab-df-convert:hover {\n",
              "      background-color: #E2EBFA;\n",
              "      box-shadow: 0px 1px 2px rgba(60, 64, 67, 0.3), 0px 1px 3px 1px rgba(60, 64, 67, 0.15);\n",
              "      fill: #174EA6;\n",
              "    }\n",
              "\n",
              "    [theme=dark] .colab-df-convert {\n",
              "      background-color: #3B4455;\n",
              "      fill: #D2E3FC;\n",
              "    }\n",
              "\n",
              "    [theme=dark] .colab-df-convert:hover {\n",
              "      background-color: #434B5C;\n",
              "      box-shadow: 0px 1px 3px 1px rgba(0, 0, 0, 0.15);\n",
              "      filter: drop-shadow(0px 1px 2px rgba(0, 0, 0, 0.3));\n",
              "      fill: #FFFFFF;\n",
              "    }\n",
              "  </style>\n",
              "\n",
              "      <script>\n",
              "        const buttonEl =\n",
              "          document.querySelector('#df-55dd0a5e-e470-4d58-9590-05720ad735d8 button.colab-df-convert');\n",
              "        buttonEl.style.display =\n",
              "          google.colab.kernel.accessAllowed ? 'block' : 'none';\n",
              "\n",
              "        async function convertToInteractive(key) {\n",
              "          const element = document.querySelector('#df-55dd0a5e-e470-4d58-9590-05720ad735d8');\n",
              "          const dataTable =\n",
              "            await google.colab.kernel.invokeFunction('convertToInteractive',\n",
              "                                                     [key], {});\n",
              "          if (!dataTable) return;\n",
              "\n",
              "          const docLinkHtml = 'Like what you see? Visit the ' +\n",
              "            '<a target=\"_blank\" href=https://colab.research.google.com/notebooks/data_table.ipynb>data table notebook</a>'\n",
              "            + ' to learn more about interactive tables.';\n",
              "          element.innerHTML = '';\n",
              "          dataTable['output_type'] = 'display_data';\n",
              "          await google.colab.output.renderOutput(dataTable, element);\n",
              "          const docLink = document.createElement('div');\n",
              "          docLink.innerHTML = docLinkHtml;\n",
              "          element.appendChild(docLink);\n",
              "        }\n",
              "      </script>\n",
              "    </div>\n",
              "  </div>\n",
              "  "
            ],
            "text/plain": [
              "       Animal  Age  Weight  Length\n",
              "0     Hamster    1       7       8\n",
              "1   Alligator    9      13       6\n",
              "2     Hamster    4       8       9\n",
              "3         Cat   13      12       1\n",
              "4       Snake   14      11       8\n",
              "5         Cat   10       8       9\n",
              "6     Hamster    2      10       5\n",
              "7         Cat    4      14       6\n",
              "8         Cat   14       9       6\n",
              "9       Snake    7      11       6\n",
              "10    Hamster   14      10       5\n",
              "11    Hamster    2      10       3\n",
              "12        Cat    1       9       4\n",
              "13  Alligator    7      14       5"
            ]
          },
          "execution_count": 57,
          "metadata": {},
          "output_type": "execute_result"
        }
      ],
      "source": [
        "animal = pd.DataFrame(animal_dict)\n",
        "animal"
      ]
    },
    {
      "cell_type": "markdown",
      "metadata": {
        "id": "HhGkmv6eu9PP"
      },
      "source": [
        "We turned a dictionary into a dataframe! Can you tell which parts of the dictionary became the headers and what became the values?"
      ]
    },
    {
      "cell_type": "markdown",
      "metadata": {
        "id": "1Pwq8wEQKKdA"
      },
      "source": [
        "### Pandas Methods 🐢"
      ]
    },
    {
      "cell_type": "markdown",
      "metadata": {
        "id": "4lADsQJFKKdB"
      },
      "source": [
        "Great! 👍 Pandas has many unique methods that we can use for data analysis and filtering. Let's first explore [**.unique( )**](https://pandas.pydata.org/pandas-docs/stable/reference/api/pandas.Series.unique.html). This method returns all the unique values in an given series or column:"
      ]
    },
    {
      "cell_type": "code",
      "execution_count": null,
      "metadata": {
        "colab": {
          "base_uri": "https://localhost:8080/"
        },
        "id": "1cj0wYKYKKdB",
        "outputId": "c27791bf-c1d3-4623-d3c3-92fa4f20f784"
      },
      "outputs": [
        {
          "data": {
            "text/plain": [
              "array(['Hamster', 'Alligator', 'Cat', 'Snake'], dtype=object)"
            ]
          },
          "execution_count": 58,
          "metadata": {},
          "output_type": "execute_result"
        }
      ],
      "source": [
        "pd.unique(animal[\"Animal\"])"
      ]
    },
    {
      "cell_type": "markdown",
      "metadata": {
        "id": "pb8JvqIjKKdC"
      },
      "source": [
        "Let's now look at the [**describe()**](https://pandas.pydata.org/pandas-docs/stable/reference/api/pandas.DataFrame.describe.html)  method. This method returns the summary statistics of numerical columns. To return the numerical statistics, we write:"
      ]
    },
    {
      "cell_type": "code",
      "execution_count": null,
      "metadata": {
        "colab": {
          "base_uri": "https://localhost:8080/",
          "height": 300
        },
        "id": "252W6c8HKKdC",
        "outputId": "df4c5cae-c546-4042-fd07-a832d0ea5211"
      },
      "outputs": [
        {
          "data": {
            "text/html": [
              "\n",
              "  <div id=\"df-01352df0-a369-4948-a2e6-c5792cf958b6\">\n",
              "    <div class=\"colab-df-container\">\n",
              "      <div>\n",
              "<style scoped>\n",
              "    .dataframe tbody tr th:only-of-type {\n",
              "        vertical-align: middle;\n",
              "    }\n",
              "\n",
              "    .dataframe tbody tr th {\n",
              "        vertical-align: top;\n",
              "    }\n",
              "\n",
              "    .dataframe thead th {\n",
              "        text-align: right;\n",
              "    }\n",
              "</style>\n",
              "<table border=\"1\" class=\"dataframe\">\n",
              "  <thead>\n",
              "    <tr style=\"text-align: right;\">\n",
              "      <th></th>\n",
              "      <th>Age</th>\n",
              "      <th>Weight</th>\n",
              "      <th>Length</th>\n",
              "    </tr>\n",
              "  </thead>\n",
              "  <tbody>\n",
              "    <tr>\n",
              "      <th>count</th>\n",
              "      <td>14.000000</td>\n",
              "      <td>14.000000</td>\n",
              "      <td>14.000000</td>\n",
              "    </tr>\n",
              "    <tr>\n",
              "      <th>mean</th>\n",
              "      <td>7.285714</td>\n",
              "      <td>10.428571</td>\n",
              "      <td>5.785714</td>\n",
              "    </tr>\n",
              "    <tr>\n",
              "      <th>std</th>\n",
              "      <td>5.075258</td>\n",
              "      <td>2.208873</td>\n",
              "      <td>2.259291</td>\n",
              "    </tr>\n",
              "    <tr>\n",
              "      <th>min</th>\n",
              "      <td>1.000000</td>\n",
              "      <td>7.000000</td>\n",
              "      <td>1.000000</td>\n",
              "    </tr>\n",
              "    <tr>\n",
              "      <th>25%</th>\n",
              "      <td>2.500000</td>\n",
              "      <td>9.000000</td>\n",
              "      <td>5.000000</td>\n",
              "    </tr>\n",
              "    <tr>\n",
              "      <th>50%</th>\n",
              "      <td>7.000000</td>\n",
              "      <td>10.000000</td>\n",
              "      <td>6.000000</td>\n",
              "    </tr>\n",
              "    <tr>\n",
              "      <th>75%</th>\n",
              "      <td>12.250000</td>\n",
              "      <td>11.750000</td>\n",
              "      <td>7.500000</td>\n",
              "    </tr>\n",
              "    <tr>\n",
              "      <th>max</th>\n",
              "      <td>14.000000</td>\n",
              "      <td>14.000000</td>\n",
              "      <td>9.000000</td>\n",
              "    </tr>\n",
              "  </tbody>\n",
              "</table>\n",
              "</div>\n",
              "      <button class=\"colab-df-convert\" onclick=\"convertToInteractive('df-01352df0-a369-4948-a2e6-c5792cf958b6')\"\n",
              "              title=\"Convert this dataframe to an interactive table.\"\n",
              "              style=\"display:none;\">\n",
              "        \n",
              "  <svg xmlns=\"http://www.w3.org/2000/svg\" height=\"24px\"viewBox=\"0 0 24 24\"\n",
              "       width=\"24px\">\n",
              "    <path d=\"M0 0h24v24H0V0z\" fill=\"none\"/>\n",
              "    <path d=\"M18.56 5.44l.94 2.06.94-2.06 2.06-.94-2.06-.94-.94-2.06-.94 2.06-2.06.94zm-11 1L8.5 8.5l.94-2.06 2.06-.94-2.06-.94L8.5 2.5l-.94 2.06-2.06.94zm10 10l.94 2.06.94-2.06 2.06-.94-2.06-.94-.94-2.06-.94 2.06-2.06.94z\"/><path d=\"M17.41 7.96l-1.37-1.37c-.4-.4-.92-.59-1.43-.59-.52 0-1.04.2-1.43.59L10.3 9.45l-7.72 7.72c-.78.78-.78 2.05 0 2.83L4 21.41c.39.39.9.59 1.41.59.51 0 1.02-.2 1.41-.59l7.78-7.78 2.81-2.81c.8-.78.8-2.07 0-2.86zM5.41 20L4 18.59l7.72-7.72 1.47 1.35L5.41 20z\"/>\n",
              "  </svg>\n",
              "      </button>\n",
              "      \n",
              "  <style>\n",
              "    .colab-df-container {\n",
              "      display:flex;\n",
              "      flex-wrap:wrap;\n",
              "      gap: 12px;\n",
              "    }\n",
              "\n",
              "    .colab-df-convert {\n",
              "      background-color: #E8F0FE;\n",
              "      border: none;\n",
              "      border-radius: 50%;\n",
              "      cursor: pointer;\n",
              "      display: none;\n",
              "      fill: #1967D2;\n",
              "      height: 32px;\n",
              "      padding: 0 0 0 0;\n",
              "      width: 32px;\n",
              "    }\n",
              "\n",
              "    .colab-df-convert:hover {\n",
              "      background-color: #E2EBFA;\n",
              "      box-shadow: 0px 1px 2px rgba(60, 64, 67, 0.3), 0px 1px 3px 1px rgba(60, 64, 67, 0.15);\n",
              "      fill: #174EA6;\n",
              "    }\n",
              "\n",
              "    [theme=dark] .colab-df-convert {\n",
              "      background-color: #3B4455;\n",
              "      fill: #D2E3FC;\n",
              "    }\n",
              "\n",
              "    [theme=dark] .colab-df-convert:hover {\n",
              "      background-color: #434B5C;\n",
              "      box-shadow: 0px 1px 3px 1px rgba(0, 0, 0, 0.15);\n",
              "      filter: drop-shadow(0px 1px 2px rgba(0, 0, 0, 0.3));\n",
              "      fill: #FFFFFF;\n",
              "    }\n",
              "  </style>\n",
              "\n",
              "      <script>\n",
              "        const buttonEl =\n",
              "          document.querySelector('#df-01352df0-a369-4948-a2e6-c5792cf958b6 button.colab-df-convert');\n",
              "        buttonEl.style.display =\n",
              "          google.colab.kernel.accessAllowed ? 'block' : 'none';\n",
              "\n",
              "        async function convertToInteractive(key) {\n",
              "          const element = document.querySelector('#df-01352df0-a369-4948-a2e6-c5792cf958b6');\n",
              "          const dataTable =\n",
              "            await google.colab.kernel.invokeFunction('convertToInteractive',\n",
              "                                                     [key], {});\n",
              "          if (!dataTable) return;\n",
              "\n",
              "          const docLinkHtml = 'Like what you see? Visit the ' +\n",
              "            '<a target=\"_blank\" href=https://colab.research.google.com/notebooks/data_table.ipynb>data table notebook</a>'\n",
              "            + ' to learn more about interactive tables.';\n",
              "          element.innerHTML = '';\n",
              "          dataTable['output_type'] = 'display_data';\n",
              "          await google.colab.output.renderOutput(dataTable, element);\n",
              "          const docLink = document.createElement('div');\n",
              "          docLink.innerHTML = docLinkHtml;\n",
              "          element.appendChild(docLink);\n",
              "        }\n",
              "      </script>\n",
              "    </div>\n",
              "  </div>\n",
              "  "
            ],
            "text/plain": [
              "             Age     Weight     Length\n",
              "count  14.000000  14.000000  14.000000\n",
              "mean    7.285714  10.428571   5.785714\n",
              "std     5.075258   2.208873   2.259291\n",
              "min     1.000000   7.000000   1.000000\n",
              "25%     2.500000   9.000000   5.000000\n",
              "50%     7.000000  10.000000   6.000000\n",
              "75%    12.250000  11.750000   7.500000\n",
              "max    14.000000  14.000000   9.000000"
            ]
          },
          "execution_count": 59,
          "metadata": {},
          "output_type": "execute_result"
        }
      ],
      "source": [
        "animal.describe(include=[np.number])"
      ]
    },
    {
      "cell_type": "markdown",
      "metadata": {
        "id": "BsKjmT16KKdD"
      },
      "source": [
        "Super simple! 🥳  **np.number** simply returns the numerical columns and excludes other data types. Now, let's attempt to filter columns in Pandas. <br> \n",
        "To filter in Pandas, we simply use brackets. Let's try one example:"
      ]
    },
    {
      "cell_type": "code",
      "execution_count": null,
      "metadata": {
        "colab": {
          "base_uri": "https://localhost:8080/",
          "height": 237
        },
        "id": "BPvwh15bKKdD",
        "outputId": "dfa3cff6-3284-4d1a-eb7a-1360723b6c81"
      },
      "outputs": [
        {
          "data": {
            "text/html": [
              "\n",
              "  <div id=\"df-39b85dd1-7678-4275-ab96-e1e483295b81\">\n",
              "    <div class=\"colab-df-container\">\n",
              "      <div>\n",
              "<style scoped>\n",
              "    .dataframe tbody tr th:only-of-type {\n",
              "        vertical-align: middle;\n",
              "    }\n",
              "\n",
              "    .dataframe tbody tr th {\n",
              "        vertical-align: top;\n",
              "    }\n",
              "\n",
              "    .dataframe thead th {\n",
              "        text-align: right;\n",
              "    }\n",
              "</style>\n",
              "<table border=\"1\" class=\"dataframe\">\n",
              "  <thead>\n",
              "    <tr style=\"text-align: right;\">\n",
              "      <th></th>\n",
              "      <th>Animal</th>\n",
              "      <th>Age</th>\n",
              "      <th>Weight</th>\n",
              "      <th>Length</th>\n",
              "    </tr>\n",
              "  </thead>\n",
              "  <tbody>\n",
              "    <tr>\n",
              "      <th>1</th>\n",
              "      <td>Alligator</td>\n",
              "      <td>9</td>\n",
              "      <td>13</td>\n",
              "      <td>6</td>\n",
              "    </tr>\n",
              "    <tr>\n",
              "      <th>3</th>\n",
              "      <td>Cat</td>\n",
              "      <td>13</td>\n",
              "      <td>12</td>\n",
              "      <td>1</td>\n",
              "    </tr>\n",
              "    <tr>\n",
              "      <th>4</th>\n",
              "      <td>Snake</td>\n",
              "      <td>14</td>\n",
              "      <td>11</td>\n",
              "      <td>8</td>\n",
              "    </tr>\n",
              "    <tr>\n",
              "      <th>7</th>\n",
              "      <td>Cat</td>\n",
              "      <td>4</td>\n",
              "      <td>14</td>\n",
              "      <td>6</td>\n",
              "    </tr>\n",
              "    <tr>\n",
              "      <th>9</th>\n",
              "      <td>Snake</td>\n",
              "      <td>7</td>\n",
              "      <td>11</td>\n",
              "      <td>6</td>\n",
              "    </tr>\n",
              "    <tr>\n",
              "      <th>13</th>\n",
              "      <td>Alligator</td>\n",
              "      <td>7</td>\n",
              "      <td>14</td>\n",
              "      <td>5</td>\n",
              "    </tr>\n",
              "  </tbody>\n",
              "</table>\n",
              "</div>\n",
              "      <button class=\"colab-df-convert\" onclick=\"convertToInteractive('df-39b85dd1-7678-4275-ab96-e1e483295b81')\"\n",
              "              title=\"Convert this dataframe to an interactive table.\"\n",
              "              style=\"display:none;\">\n",
              "        \n",
              "  <svg xmlns=\"http://www.w3.org/2000/svg\" height=\"24px\"viewBox=\"0 0 24 24\"\n",
              "       width=\"24px\">\n",
              "    <path d=\"M0 0h24v24H0V0z\" fill=\"none\"/>\n",
              "    <path d=\"M18.56 5.44l.94 2.06.94-2.06 2.06-.94-2.06-.94-.94-2.06-.94 2.06-2.06.94zm-11 1L8.5 8.5l.94-2.06 2.06-.94-2.06-.94L8.5 2.5l-.94 2.06-2.06.94zm10 10l.94 2.06.94-2.06 2.06-.94-2.06-.94-.94-2.06-.94 2.06-2.06.94z\"/><path d=\"M17.41 7.96l-1.37-1.37c-.4-.4-.92-.59-1.43-.59-.52 0-1.04.2-1.43.59L10.3 9.45l-7.72 7.72c-.78.78-.78 2.05 0 2.83L4 21.41c.39.39.9.59 1.41.59.51 0 1.02-.2 1.41-.59l7.78-7.78 2.81-2.81c.8-.78.8-2.07 0-2.86zM5.41 20L4 18.59l7.72-7.72 1.47 1.35L5.41 20z\"/>\n",
              "  </svg>\n",
              "      </button>\n",
              "      \n",
              "  <style>\n",
              "    .colab-df-container {\n",
              "      display:flex;\n",
              "      flex-wrap:wrap;\n",
              "      gap: 12px;\n",
              "    }\n",
              "\n",
              "    .colab-df-convert {\n",
              "      background-color: #E8F0FE;\n",
              "      border: none;\n",
              "      border-radius: 50%;\n",
              "      cursor: pointer;\n",
              "      display: none;\n",
              "      fill: #1967D2;\n",
              "      height: 32px;\n",
              "      padding: 0 0 0 0;\n",
              "      width: 32px;\n",
              "    }\n",
              "\n",
              "    .colab-df-convert:hover {\n",
              "      background-color: #E2EBFA;\n",
              "      box-shadow: 0px 1px 2px rgba(60, 64, 67, 0.3), 0px 1px 3px 1px rgba(60, 64, 67, 0.15);\n",
              "      fill: #174EA6;\n",
              "    }\n",
              "\n",
              "    [theme=dark] .colab-df-convert {\n",
              "      background-color: #3B4455;\n",
              "      fill: #D2E3FC;\n",
              "    }\n",
              "\n",
              "    [theme=dark] .colab-df-convert:hover {\n",
              "      background-color: #434B5C;\n",
              "      box-shadow: 0px 1px 3px 1px rgba(0, 0, 0, 0.15);\n",
              "      filter: drop-shadow(0px 1px 2px rgba(0, 0, 0, 0.3));\n",
              "      fill: #FFFFFF;\n",
              "    }\n",
              "  </style>\n",
              "\n",
              "      <script>\n",
              "        const buttonEl =\n",
              "          document.querySelector('#df-39b85dd1-7678-4275-ab96-e1e483295b81 button.colab-df-convert');\n",
              "        buttonEl.style.display =\n",
              "          google.colab.kernel.accessAllowed ? 'block' : 'none';\n",
              "\n",
              "        async function convertToInteractive(key) {\n",
              "          const element = document.querySelector('#df-39b85dd1-7678-4275-ab96-e1e483295b81');\n",
              "          const dataTable =\n",
              "            await google.colab.kernel.invokeFunction('convertToInteractive',\n",
              "                                                     [key], {});\n",
              "          if (!dataTable) return;\n",
              "\n",
              "          const docLinkHtml = 'Like what you see? Visit the ' +\n",
              "            '<a target=\"_blank\" href=https://colab.research.google.com/notebooks/data_table.ipynb>data table notebook</a>'\n",
              "            + ' to learn more about interactive tables.';\n",
              "          element.innerHTML = '';\n",
              "          dataTable['output_type'] = 'display_data';\n",
              "          await google.colab.output.renderOutput(dataTable, element);\n",
              "          const docLink = document.createElement('div');\n",
              "          docLink.innerHTML = docLinkHtml;\n",
              "          element.appendChild(docLink);\n",
              "        }\n",
              "      </script>\n",
              "    </div>\n",
              "  </div>\n",
              "  "
            ],
            "text/plain": [
              "       Animal  Age  Weight  Length\n",
              "1   Alligator    9      13       6\n",
              "3         Cat   13      12       1\n",
              "4       Snake   14      11       8\n",
              "7         Cat    4      14       6\n",
              "9       Snake    7      11       6\n",
              "13  Alligator    7      14       5"
            ]
          },
          "execution_count": 60,
          "metadata": {},
          "output_type": "execute_result"
        }
      ],
      "source": [
        "animal[animal[\"Weight\"] > 10]"
      ]
    },
    {
      "cell_type": "markdown",
      "metadata": {
        "id": "Pey_gUxLKKdF"
      },
      "source": [
        "🐍 Python is wonderful because it's so intuitive. We pointed to **animal**, and then to the **\"Weight\"** column. At this point, we filtered for numbers greater than 10\n",
        ". "
      ]
    },
    {
      "cell_type": "markdown",
      "metadata": {
        "id": "CgYln5WbKKdF"
      },
      "source": [
        "What if we want to find rows between a certain subset? We can use the '&' operator: "
      ]
    },
    {
      "cell_type": "code",
      "execution_count": null,
      "metadata": {
        "colab": {
          "base_uri": "https://localhost:8080/",
          "height": 268
        },
        "id": "dVlSA9sZKKdF",
        "outputId": "e65fe957-d678-4715-adb4-65822e8cac67"
      },
      "outputs": [
        {
          "data": {
            "text/html": [
              "\n",
              "  <div id=\"df-abd9429e-2543-4e4d-814e-66ebe2b9d27f\">\n",
              "    <div class=\"colab-df-container\">\n",
              "      <div>\n",
              "<style scoped>\n",
              "    .dataframe tbody tr th:only-of-type {\n",
              "        vertical-align: middle;\n",
              "    }\n",
              "\n",
              "    .dataframe tbody tr th {\n",
              "        vertical-align: top;\n",
              "    }\n",
              "\n",
              "    .dataframe thead th {\n",
              "        text-align: right;\n",
              "    }\n",
              "</style>\n",
              "<table border=\"1\" class=\"dataframe\">\n",
              "  <thead>\n",
              "    <tr style=\"text-align: right;\">\n",
              "      <th></th>\n",
              "      <th>Animal</th>\n",
              "      <th>Age</th>\n",
              "      <th>Weight</th>\n",
              "      <th>Length</th>\n",
              "    </tr>\n",
              "  </thead>\n",
              "  <tbody>\n",
              "    <tr>\n",
              "      <th>1</th>\n",
              "      <td>Alligator</td>\n",
              "      <td>9</td>\n",
              "      <td>13</td>\n",
              "      <td>6</td>\n",
              "    </tr>\n",
              "    <tr>\n",
              "      <th>6</th>\n",
              "      <td>Hamster</td>\n",
              "      <td>2</td>\n",
              "      <td>10</td>\n",
              "      <td>5</td>\n",
              "    </tr>\n",
              "    <tr>\n",
              "      <th>7</th>\n",
              "      <td>Cat</td>\n",
              "      <td>4</td>\n",
              "      <td>14</td>\n",
              "      <td>6</td>\n",
              "    </tr>\n",
              "    <tr>\n",
              "      <th>8</th>\n",
              "      <td>Cat</td>\n",
              "      <td>14</td>\n",
              "      <td>9</td>\n",
              "      <td>6</td>\n",
              "    </tr>\n",
              "    <tr>\n",
              "      <th>9</th>\n",
              "      <td>Snake</td>\n",
              "      <td>7</td>\n",
              "      <td>11</td>\n",
              "      <td>6</td>\n",
              "    </tr>\n",
              "    <tr>\n",
              "      <th>10</th>\n",
              "      <td>Hamster</td>\n",
              "      <td>14</td>\n",
              "      <td>10</td>\n",
              "      <td>5</td>\n",
              "    </tr>\n",
              "    <tr>\n",
              "      <th>13</th>\n",
              "      <td>Alligator</td>\n",
              "      <td>7</td>\n",
              "      <td>14</td>\n",
              "      <td>5</td>\n",
              "    </tr>\n",
              "  </tbody>\n",
              "</table>\n",
              "</div>\n",
              "      <button class=\"colab-df-convert\" onclick=\"convertToInteractive('df-abd9429e-2543-4e4d-814e-66ebe2b9d27f')\"\n",
              "              title=\"Convert this dataframe to an interactive table.\"\n",
              "              style=\"display:none;\">\n",
              "        \n",
              "  <svg xmlns=\"http://www.w3.org/2000/svg\" height=\"24px\"viewBox=\"0 0 24 24\"\n",
              "       width=\"24px\">\n",
              "    <path d=\"M0 0h24v24H0V0z\" fill=\"none\"/>\n",
              "    <path d=\"M18.56 5.44l.94 2.06.94-2.06 2.06-.94-2.06-.94-.94-2.06-.94 2.06-2.06.94zm-11 1L8.5 8.5l.94-2.06 2.06-.94-2.06-.94L8.5 2.5l-.94 2.06-2.06.94zm10 10l.94 2.06.94-2.06 2.06-.94-2.06-.94-.94-2.06-.94 2.06-2.06.94z\"/><path d=\"M17.41 7.96l-1.37-1.37c-.4-.4-.92-.59-1.43-.59-.52 0-1.04.2-1.43.59L10.3 9.45l-7.72 7.72c-.78.78-.78 2.05 0 2.83L4 21.41c.39.39.9.59 1.41.59.51 0 1.02-.2 1.41-.59l7.78-7.78 2.81-2.81c.8-.78.8-2.07 0-2.86zM5.41 20L4 18.59l7.72-7.72 1.47 1.35L5.41 20z\"/>\n",
              "  </svg>\n",
              "      </button>\n",
              "      \n",
              "  <style>\n",
              "    .colab-df-container {\n",
              "      display:flex;\n",
              "      flex-wrap:wrap;\n",
              "      gap: 12px;\n",
              "    }\n",
              "\n",
              "    .colab-df-convert {\n",
              "      background-color: #E8F0FE;\n",
              "      border: none;\n",
              "      border-radius: 50%;\n",
              "      cursor: pointer;\n",
              "      display: none;\n",
              "      fill: #1967D2;\n",
              "      height: 32px;\n",
              "      padding: 0 0 0 0;\n",
              "      width: 32px;\n",
              "    }\n",
              "\n",
              "    .colab-df-convert:hover {\n",
              "      background-color: #E2EBFA;\n",
              "      box-shadow: 0px 1px 2px rgba(60, 64, 67, 0.3), 0px 1px 3px 1px rgba(60, 64, 67, 0.15);\n",
              "      fill: #174EA6;\n",
              "    }\n",
              "\n",
              "    [theme=dark] .colab-df-convert {\n",
              "      background-color: #3B4455;\n",
              "      fill: #D2E3FC;\n",
              "    }\n",
              "\n",
              "    [theme=dark] .colab-df-convert:hover {\n",
              "      background-color: #434B5C;\n",
              "      box-shadow: 0px 1px 3px 1px rgba(0, 0, 0, 0.15);\n",
              "      filter: drop-shadow(0px 1px 2px rgba(0, 0, 0, 0.3));\n",
              "      fill: #FFFFFF;\n",
              "    }\n",
              "  </style>\n",
              "\n",
              "      <script>\n",
              "        const buttonEl =\n",
              "          document.querySelector('#df-abd9429e-2543-4e4d-814e-66ebe2b9d27f button.colab-df-convert');\n",
              "        buttonEl.style.display =\n",
              "          google.colab.kernel.accessAllowed ? 'block' : 'none';\n",
              "\n",
              "        async function convertToInteractive(key) {\n",
              "          const element = document.querySelector('#df-abd9429e-2543-4e4d-814e-66ebe2b9d27f');\n",
              "          const dataTable =\n",
              "            await google.colab.kernel.invokeFunction('convertToInteractive',\n",
              "                                                     [key], {});\n",
              "          if (!dataTable) return;\n",
              "\n",
              "          const docLinkHtml = 'Like what you see? Visit the ' +\n",
              "            '<a target=\"_blank\" href=https://colab.research.google.com/notebooks/data_table.ipynb>data table notebook</a>'\n",
              "            + ' to learn more about interactive tables.';\n",
              "          element.innerHTML = '';\n",
              "          dataTable['output_type'] = 'display_data';\n",
              "          await google.colab.output.renderOutput(dataTable, element);\n",
              "          const docLink = document.createElement('div');\n",
              "          docLink.innerHTML = docLinkHtml;\n",
              "          element.appendChild(docLink);\n",
              "        }\n",
              "      </script>\n",
              "    </div>\n",
              "  </div>\n",
              "  "
            ],
            "text/plain": [
              "       Animal  Age  Weight  Length\n",
              "1   Alligator    9      13       6\n",
              "6     Hamster    2      10       5\n",
              "7         Cat    4      14       6\n",
              "8         Cat   14       9       6\n",
              "9       Snake    7      11       6\n",
              "10    Hamster   14      10       5\n",
              "13  Alligator    7      14       5"
            ]
          },
          "execution_count": 61,
          "metadata": {},
          "output_type": "execute_result"
        }
      ],
      "source": [
        "animal[(animal[\"Length\"] > 4) & (animal[\"Length\"] < 8)] "
      ]
    },
    {
      "cell_type": "markdown",
      "metadata": {
        "id": "x6wsJ_pyKKdG"
      },
      "source": [
        "We are almost finished our review of Pandas DataFrames. 🤠 Let's now turn our attention to [**.groupby()**](https://pandas.pydata.org/pandas-docs/stable/reference/api/pandas.DataFrame.groupby.html). The Groupby method involves grouping data around a particular category and applying analysis. This would be useful if you were interested in answering the question, \"What's the average weight of all the snakes, cats, hamsters, and alligators?\" To find the average weight of each category of animal, we'll group the animals by animal type and then apply the mean function. We could apply other functions too. We could apply \"sum\" to add up all the weights, \"min\" to find the lowest, \"max\" to get the highest, or \"count\" just to get a count of each animal type:"
      ]
    },
    {
      "cell_type": "code",
      "execution_count": null,
      "metadata": {
        "colab": {
          "base_uri": "https://localhost:8080/"
        },
        "id": "g_QWyOf0KKdJ",
        "outputId": "f745c740-76d9-4ace-f601-ce70d068d81a"
      },
      "outputs": [
        {
          "data": {
            "text/plain": [
              "Animal\n",
              "Alligator    13.5\n",
              "Cat          10.4\n",
              "Hamster       9.0\n",
              "Snake        11.0\n",
              "Name: Weight, dtype: float64"
            ]
          },
          "execution_count": 78,
          "metadata": {},
          "output_type": "execute_result"
        }
      ],
      "source": [
        "animal_groups = animal.groupby(\"Animal\")\n",
        "animal_groups['Weight'].mean()"
      ]
    },
    {
      "cell_type": "markdown",
      "metadata": {
        "id": "4KhditFY4MKJ"
      },
      "source": [
        "## Exercise 3: DataFrame 🏃\n",
        "- Open the [UN Dataset](http://data.un.org/_Docs/SYB/PDFs/SYB60_T03_Population%20Growth,%20Fertility%20and%20Mortality%20Indicators.pdf) \n",
        "- Create a DataFrame using **Northern Africa**, **Sub-Saharan Africa**, **Eastern Asia** and **Western Europe**. For these areas, create columns for *Population Rate of Increase*, *Fertility Rate*, and *Infant Mortality* for the year 2005.\n",
        "- Using filtering, sort for the countries that have infant mortality between 30 and 50. \n",
        "- Find the max for Infant Mortality for the four areas"
      ]
    },
    {
      "cell_type": "code",
      "execution_count": null,
      "metadata": {
        "id": "l3OMB15zxBY_"
      },
      "outputs": [],
      "source": [
        "UN_Data = { \n",
        "            'Countries': ['Northern Africa', 'Sub-Saharan Africa', 'Eastern Asia', 'Western Europe'],\n",
        "            'Population Rate of Increase': [1.7, 2.7, 0.6, 0.3],\n",
        "            'Fertility Rate': [3.2, 5.6, 1.5, 1.6],\n",
        "            'Infant Mortality': [39.3, 87.3, 23.2, 4.3]\n",
        "    \n",
        "}"
      ]
    },
    {
      "cell_type": "code",
      "execution_count": null,
      "metadata": {
        "colab": {
          "base_uri": "https://localhost:8080/",
          "height": 174
        },
        "id": "b0MAN8Sv1s3e",
        "outputId": "f5185126-3d3c-4606-a706-2522ac889ae2"
      },
      "outputs": [
        {
          "data": {
            "text/html": [
              "\n",
              "  <div id=\"df-f61723f6-ba8a-42ca-abb0-b5796792cfc2\">\n",
              "    <div class=\"colab-df-container\">\n",
              "      <div>\n",
              "<style scoped>\n",
              "    .dataframe tbody tr th:only-of-type {\n",
              "        vertical-align: middle;\n",
              "    }\n",
              "\n",
              "    .dataframe tbody tr th {\n",
              "        vertical-align: top;\n",
              "    }\n",
              "\n",
              "    .dataframe thead th {\n",
              "        text-align: right;\n",
              "    }\n",
              "</style>\n",
              "<table border=\"1\" class=\"dataframe\">\n",
              "  <thead>\n",
              "    <tr style=\"text-align: right;\">\n",
              "      <th></th>\n",
              "      <th>Countries</th>\n",
              "      <th>Population Rate of Increase</th>\n",
              "      <th>Fertility Rate</th>\n",
              "      <th>Infant Mortality</th>\n",
              "    </tr>\n",
              "  </thead>\n",
              "  <tbody>\n",
              "    <tr>\n",
              "      <th>0</th>\n",
              "      <td>Northern Africa</td>\n",
              "      <td>1.7</td>\n",
              "      <td>3.2</td>\n",
              "      <td>39.3</td>\n",
              "    </tr>\n",
              "    <tr>\n",
              "      <th>1</th>\n",
              "      <td>Sub-Saharan Africa</td>\n",
              "      <td>2.7</td>\n",
              "      <td>5.6</td>\n",
              "      <td>87.3</td>\n",
              "    </tr>\n",
              "    <tr>\n",
              "      <th>2</th>\n",
              "      <td>Eastern Asia</td>\n",
              "      <td>0.6</td>\n",
              "      <td>1.5</td>\n",
              "      <td>23.2</td>\n",
              "    </tr>\n",
              "    <tr>\n",
              "      <th>3</th>\n",
              "      <td>Western Europe</td>\n",
              "      <td>0.3</td>\n",
              "      <td>1.6</td>\n",
              "      <td>4.3</td>\n",
              "    </tr>\n",
              "  </tbody>\n",
              "</table>\n",
              "</div>\n",
              "      <button class=\"colab-df-convert\" onclick=\"convertToInteractive('df-f61723f6-ba8a-42ca-abb0-b5796792cfc2')\"\n",
              "              title=\"Convert this dataframe to an interactive table.\"\n",
              "              style=\"display:none;\">\n",
              "        \n",
              "  <svg xmlns=\"http://www.w3.org/2000/svg\" height=\"24px\"viewBox=\"0 0 24 24\"\n",
              "       width=\"24px\">\n",
              "    <path d=\"M0 0h24v24H0V0z\" fill=\"none\"/>\n",
              "    <path d=\"M18.56 5.44l.94 2.06.94-2.06 2.06-.94-2.06-.94-.94-2.06-.94 2.06-2.06.94zm-11 1L8.5 8.5l.94-2.06 2.06-.94-2.06-.94L8.5 2.5l-.94 2.06-2.06.94zm10 10l.94 2.06.94-2.06 2.06-.94-2.06-.94-.94-2.06-.94 2.06-2.06.94z\"/><path d=\"M17.41 7.96l-1.37-1.37c-.4-.4-.92-.59-1.43-.59-.52 0-1.04.2-1.43.59L10.3 9.45l-7.72 7.72c-.78.78-.78 2.05 0 2.83L4 21.41c.39.39.9.59 1.41.59.51 0 1.02-.2 1.41-.59l7.78-7.78 2.81-2.81c.8-.78.8-2.07 0-2.86zM5.41 20L4 18.59l7.72-7.72 1.47 1.35L5.41 20z\"/>\n",
              "  </svg>\n",
              "      </button>\n",
              "      \n",
              "  <style>\n",
              "    .colab-df-container {\n",
              "      display:flex;\n",
              "      flex-wrap:wrap;\n",
              "      gap: 12px;\n",
              "    }\n",
              "\n",
              "    .colab-df-convert {\n",
              "      background-color: #E8F0FE;\n",
              "      border: none;\n",
              "      border-radius: 50%;\n",
              "      cursor: pointer;\n",
              "      display: none;\n",
              "      fill: #1967D2;\n",
              "      height: 32px;\n",
              "      padding: 0 0 0 0;\n",
              "      width: 32px;\n",
              "    }\n",
              "\n",
              "    .colab-df-convert:hover {\n",
              "      background-color: #E2EBFA;\n",
              "      box-shadow: 0px 1px 2px rgba(60, 64, 67, 0.3), 0px 1px 3px 1px rgba(60, 64, 67, 0.15);\n",
              "      fill: #174EA6;\n",
              "    }\n",
              "\n",
              "    [theme=dark] .colab-df-convert {\n",
              "      background-color: #3B4455;\n",
              "      fill: #D2E3FC;\n",
              "    }\n",
              "\n",
              "    [theme=dark] .colab-df-convert:hover {\n",
              "      background-color: #434B5C;\n",
              "      box-shadow: 0px 1px 3px 1px rgba(0, 0, 0, 0.15);\n",
              "      filter: drop-shadow(0px 1px 2px rgba(0, 0, 0, 0.3));\n",
              "      fill: #FFFFFF;\n",
              "    }\n",
              "  </style>\n",
              "\n",
              "      <script>\n",
              "        const buttonEl =\n",
              "          document.querySelector('#df-f61723f6-ba8a-42ca-abb0-b5796792cfc2 button.colab-df-convert');\n",
              "        buttonEl.style.display =\n",
              "          google.colab.kernel.accessAllowed ? 'block' : 'none';\n",
              "\n",
              "        async function convertToInteractive(key) {\n",
              "          const element = document.querySelector('#df-f61723f6-ba8a-42ca-abb0-b5796792cfc2');\n",
              "          const dataTable =\n",
              "            await google.colab.kernel.invokeFunction('convertToInteractive',\n",
              "                                                     [key], {});\n",
              "          if (!dataTable) return;\n",
              "\n",
              "          const docLinkHtml = 'Like what you see? Visit the ' +\n",
              "            '<a target=\"_blank\" href=https://colab.research.google.com/notebooks/data_table.ipynb>data table notebook</a>'\n",
              "            + ' to learn more about interactive tables.';\n",
              "          element.innerHTML = '';\n",
              "          dataTable['output_type'] = 'display_data';\n",
              "          await google.colab.output.renderOutput(dataTable, element);\n",
              "          const docLink = document.createElement('div');\n",
              "          docLink.innerHTML = docLinkHtml;\n",
              "          element.appendChild(docLink);\n",
              "        }\n",
              "      </script>\n",
              "    </div>\n",
              "  </div>\n",
              "  "
            ],
            "text/plain": [
              "            Countries  ...  Infant Mortality\n",
              "0     Northern Africa  ...              39.3\n",
              "1  Sub-Saharan Africa  ...              87.3\n",
              "2        Eastern Asia  ...              23.2\n",
              "3      Western Europe  ...               4.3\n",
              "\n",
              "[4 rows x 4 columns]"
            ]
          },
          "execution_count": 67,
          "metadata": {},
          "output_type": "execute_result"
        }
      ],
      "source": [
        "display = pd.DataFrame(UN_Data)\n",
        "display"
      ]
    },
    {
      "cell_type": "code",
      "execution_count": null,
      "metadata": {
        "colab": {
          "base_uri": "https://localhost:8080/",
          "height": 81
        },
        "id": "bhdjo8rt1s_B",
        "outputId": "557b5fb5-fcfa-4add-8f95-230fc922b0bb"
      },
      "outputs": [
        {
          "data": {
            "text/html": [
              "\n",
              "  <div id=\"df-b62bde0e-e8e1-47ab-996d-35e0062c642b\">\n",
              "    <div class=\"colab-df-container\">\n",
              "      <div>\n",
              "<style scoped>\n",
              "    .dataframe tbody tr th:only-of-type {\n",
              "        vertical-align: middle;\n",
              "    }\n",
              "\n",
              "    .dataframe tbody tr th {\n",
              "        vertical-align: top;\n",
              "    }\n",
              "\n",
              "    .dataframe thead th {\n",
              "        text-align: right;\n",
              "    }\n",
              "</style>\n",
              "<table border=\"1\" class=\"dataframe\">\n",
              "  <thead>\n",
              "    <tr style=\"text-align: right;\">\n",
              "      <th></th>\n",
              "      <th>Countries</th>\n",
              "      <th>Population Rate of Increase</th>\n",
              "      <th>Fertility Rate</th>\n",
              "      <th>Infant Mortality</th>\n",
              "    </tr>\n",
              "  </thead>\n",
              "  <tbody>\n",
              "    <tr>\n",
              "      <th>0</th>\n",
              "      <td>Northern Africa</td>\n",
              "      <td>1.7</td>\n",
              "      <td>3.2</td>\n",
              "      <td>39.3</td>\n",
              "    </tr>\n",
              "  </tbody>\n",
              "</table>\n",
              "</div>\n",
              "      <button class=\"colab-df-convert\" onclick=\"convertToInteractive('df-b62bde0e-e8e1-47ab-996d-35e0062c642b')\"\n",
              "              title=\"Convert this dataframe to an interactive table.\"\n",
              "              style=\"display:none;\">\n",
              "        \n",
              "  <svg xmlns=\"http://www.w3.org/2000/svg\" height=\"24px\"viewBox=\"0 0 24 24\"\n",
              "       width=\"24px\">\n",
              "    <path d=\"M0 0h24v24H0V0z\" fill=\"none\"/>\n",
              "    <path d=\"M18.56 5.44l.94 2.06.94-2.06 2.06-.94-2.06-.94-.94-2.06-.94 2.06-2.06.94zm-11 1L8.5 8.5l.94-2.06 2.06-.94-2.06-.94L8.5 2.5l-.94 2.06-2.06.94zm10 10l.94 2.06.94-2.06 2.06-.94-2.06-.94-.94-2.06-.94 2.06-2.06.94z\"/><path d=\"M17.41 7.96l-1.37-1.37c-.4-.4-.92-.59-1.43-.59-.52 0-1.04.2-1.43.59L10.3 9.45l-7.72 7.72c-.78.78-.78 2.05 0 2.83L4 21.41c.39.39.9.59 1.41.59.51 0 1.02-.2 1.41-.59l7.78-7.78 2.81-2.81c.8-.78.8-2.07 0-2.86zM5.41 20L4 18.59l7.72-7.72 1.47 1.35L5.41 20z\"/>\n",
              "  </svg>\n",
              "      </button>\n",
              "      \n",
              "  <style>\n",
              "    .colab-df-container {\n",
              "      display:flex;\n",
              "      flex-wrap:wrap;\n",
              "      gap: 12px;\n",
              "    }\n",
              "\n",
              "    .colab-df-convert {\n",
              "      background-color: #E8F0FE;\n",
              "      border: none;\n",
              "      border-radius: 50%;\n",
              "      cursor: pointer;\n",
              "      display: none;\n",
              "      fill: #1967D2;\n",
              "      height: 32px;\n",
              "      padding: 0 0 0 0;\n",
              "      width: 32px;\n",
              "    }\n",
              "\n",
              "    .colab-df-convert:hover {\n",
              "      background-color: #E2EBFA;\n",
              "      box-shadow: 0px 1px 2px rgba(60, 64, 67, 0.3), 0px 1px 3px 1px rgba(60, 64, 67, 0.15);\n",
              "      fill: #174EA6;\n",
              "    }\n",
              "\n",
              "    [theme=dark] .colab-df-convert {\n",
              "      background-color: #3B4455;\n",
              "      fill: #D2E3FC;\n",
              "    }\n",
              "\n",
              "    [theme=dark] .colab-df-convert:hover {\n",
              "      background-color: #434B5C;\n",
              "      box-shadow: 0px 1px 3px 1px rgba(0, 0, 0, 0.15);\n",
              "      filter: drop-shadow(0px 1px 2px rgba(0, 0, 0, 0.3));\n",
              "      fill: #FFFFFF;\n",
              "    }\n",
              "  </style>\n",
              "\n",
              "      <script>\n",
              "        const buttonEl =\n",
              "          document.querySelector('#df-b62bde0e-e8e1-47ab-996d-35e0062c642b button.colab-df-convert');\n",
              "        buttonEl.style.display =\n",
              "          google.colab.kernel.accessAllowed ? 'block' : 'none';\n",
              "\n",
              "        async function convertToInteractive(key) {\n",
              "          const element = document.querySelector('#df-b62bde0e-e8e1-47ab-996d-35e0062c642b');\n",
              "          const dataTable =\n",
              "            await google.colab.kernel.invokeFunction('convertToInteractive',\n",
              "                                                     [key], {});\n",
              "          if (!dataTable) return;\n",
              "\n",
              "          const docLinkHtml = 'Like what you see? Visit the ' +\n",
              "            '<a target=\"_blank\" href=https://colab.research.google.com/notebooks/data_table.ipynb>data table notebook</a>'\n",
              "            + ' to learn more about interactive tables.';\n",
              "          element.innerHTML = '';\n",
              "          dataTable['output_type'] = 'display_data';\n",
              "          await google.colab.output.renderOutput(dataTable, element);\n",
              "          const docLink = document.createElement('div');\n",
              "          docLink.innerHTML = docLinkHtml;\n",
              "          element.appendChild(docLink);\n",
              "        }\n",
              "      </script>\n",
              "    </div>\n",
              "  </div>\n",
              "  "
            ],
            "text/plain": [
              "         Countries  ...  Infant Mortality\n",
              "0  Northern Africa  ...              39.3\n",
              "\n",
              "[1 rows x 4 columns]"
            ]
          },
          "execution_count": 76,
          "metadata": {},
          "output_type": "execute_result"
        }
      ],
      "source": [
        "display[(display[\"Infant Mortality\"] > 30) & (display[\"Infant Mortality\"] < 50)]"
      ]
    },
    {
      "cell_type": "code",
      "execution_count": null,
      "metadata": {
        "colab": {
          "base_uri": "https://localhost:8080/"
        },
        "id": "qNXPKrO31tJc",
        "outputId": "b73f0350-9122-473d-a93c-95ab5431fd47"
      },
      "outputs": [
        {
          "data": {
            "text/plain": [
              "87.3"
            ]
          },
          "execution_count": 79,
          "metadata": {},
          "output_type": "execute_result"
        }
      ],
      "source": [
        "\n",
        "display[\"Infant Mortality\"].max()"
      ]
    },
    {
      "cell_type": "markdown",
      "metadata": {
        "id": "8ni5XbrPKKdM"
      },
      "source": [
        "With that, we've completed our review of the Python library Pandas. If you have any lingering questions, do ask! You can find more on Pandas on their [official website](pandas.pydata.org)."
      ]
    },
    {
      "cell_type": "markdown",
      "metadata": {
        "id": "N6zknks8KKdM"
      },
      "source": [
        "# Matplotlib: A (Tiny) Introduction 📈"
      ]
    },
    {
      "cell_type": "markdown",
      "metadata": {
        "id": "Ncf6gLKkKKdM"
      },
      "source": [
        "Matplotlib is a Python 2D plotting library which produces  plots, histograms, power spectra, bar charts, errorcharts, scatterplots, etc. with just a few lines of code. Source: [Matplotlib](https://matplotlib.org). <br> \n",
        "We'll cover only some of the coolest features in this Notebook due to time constraints. You can explore more on the [official website](https://matplotlib.org/tutorials/index.html)"
      ]
    },
    {
      "cell_type": "markdown",
      "metadata": {
        "id": "AF_UaXHGKKdM"
      },
      "source": [
        "Let's import the `matplotlib` library under the alias `plt`"
      ]
    },
    {
      "cell_type": "code",
      "execution_count": null,
      "metadata": {
        "id": "SPimxVV7KKdM"
      },
      "outputs": [],
      "source": [
        "import matplotlib.pyplot as plt"
      ]
    },
    {
      "cell_type": "markdown",
      "metadata": {
        "id": "sQNhgmjFKKdN"
      },
      "source": [
        "### Pyplot"
      ]
    },
    {
      "cell_type": "markdown",
      "metadata": {
        "id": "9WbbAMlRKKdN"
      },
      "source": [
        "Pyplot is a module of Matplotlib which provides simple functions to add plot elements like lines, images, text, etc. to the current axes in the current figure."
      ]
    },
    {
      "cell_type": "markdown",
      "metadata": {
        "id": "00Fel6ykKKdN"
      },
      "source": [
        "We'll import the Pyplot module to create a simple plot. We will be using two NumPy arrays - one for the x-coordinates and another for the y-coordinates:"
      ]
    },
    {
      "cell_type": "code",
      "execution_count": null,
      "metadata": {
        "colab": {
          "base_uri": "https://localhost:8080/",
          "height": 264
        },
        "id": "sLSc7SbHKKdN",
        "outputId": "228dec08-3381-4c91-8098-81814fa03e73"
      },
      "outputs": [
        {
          "data": {
            "image/png": "[encoded data removed]",
            "text/plain": [
              "<Figure size 432x288 with 1 Axes>"
            ]
          },
          "metadata": {
            "needs_background": "light"
          },
          "output_type": "display_data"
        }
      ],
      "source": [
        "plt.plot([1,2,3,4],[1,4,9,16]) # plt.plot([x-coordinates], [y-coordinates])\n",
        "plt.show()"
      ]
    },
    {
      "cell_type": "markdown",
      "metadata": {
        "id": "weoDq9MYKKdO"
      },
      "source": [
        "Now, we can add titles, and labels:"
      ]
    },
    {
      "cell_type": "code",
      "execution_count": null,
      "metadata": {
        "colab": {
          "base_uri": "https://localhost:8080/",
          "height": 294
        },
        "id": "iHnwLMXHKKdO",
        "outputId": "3331a844-513b-4a21-b2a9-a8b848b5f1f4"
      },
      "outputs": [
        {
          "data": {
            "image/png": "[encoded data removed]",
            "text/plain": [
              "<Figure size 432x288 with 1 Axes>"
            ]
          },
          "metadata": {
            "needs_background": "light"
          },
          "output_type": "display_data"
        }
      ],
      "source": [
        "plt.plot([1,2,3,4],[1,4,9,16]) # plt.plot([x-coordinates], [y-coordinates])\n",
        "plt.title(\"First Plot\")\n",
        "plt.xlabel(\"X Label\")\n",
        "plt.ylabel(\"Y Label\")\n",
        "plt.show()"
      ]
    },
    {
      "cell_type": "markdown",
      "metadata": {
        "id": "LH76ssZnKKdP"
      },
      "source": [
        "Another commonly used graph in Machine Learning is the Scatter Plot. Let's create a basic scatterplot in MatPlotLib comparing the distribution of height vs. weight: "
      ]
    },
    {
      "cell_type": "code",
      "execution_count": null,
      "metadata": {
        "colab": {
          "base_uri": "https://localhost:8080/",
          "height": 294
        },
        "id": "9O0CPOx4KKdQ",
        "outputId": "a4c749c0-fd84-4bdd-9c55-685d8f0e4967"
      },
      "outputs": [
        {
          "data": {
            "image/png": "[encoded data removed]",
            "text/plain": [
              "<Figure size 432x288 with 1 Axes>"
            ]
          },
          "metadata": {
            "needs_background": "light"
          },
          "output_type": "display_data"
        }
      ],
      "source": [
        "height = np.array([167, 170, 149, 165, 155, 180, 166, 146, 159, 185, 145, 168, 172, 181, 169])\n",
        "weight = np.array([86,74,66,78,68,79,90,73,70,88,66,84, 67, 84, 77])\n",
        "\n",
        "#We can set the limit (lower, upper) for the x-axis and the y-axis using xlim and ylim, respectively.\n",
        "plt.xlim(140, 200)\n",
        "plt.ylim(60,100)\n",
        "#A scatterplot can be generated through .scatter(x,y)\n",
        "plt.scatter(height,weight)\n",
        "plt.title(\"Comparing Height vs. Weight\")\n",
        "plt.xlabel(\"Height\")\n",
        "plt.ylabel(\"Weight\")\n",
        "plt.show()"
      ]
    },
    {
      "cell_type": "markdown",
      "metadata": {
        "id": "6mxMn_4bKKdR"
      },
      "source": [
        "## Exercise: MatPlotLib 🏃 "
      ]
    },
    {
      "cell_type": "markdown",
      "metadata": {
        "id": "3LfHjeNWKKdR"
      },
      "source": [
        "- Using the data for the animal weights and lengths, create an scatterplot comparing the information. \n",
        "\n",
        "Note: Remember to properly label the graph (x-axis, y-axis, and title!)"
      ]
    },
    {
      "cell_type": "code",
      "execution_count": null,
      "metadata": {
        "id": "xFK94CA71yul"
      },
      "outputs": [],
      "source": [
        "# YOUR CODE HERE #"
      ]
    },
    {
      "cell_type": "markdown",
      "metadata": {
        "id": "wh-AfqzEKKdR"
      },
      "source": [
        "# Seaborn: Another (tiny) introduction 🌊 "
      ]
    },
    {
      "cell_type": "markdown",
      "metadata": {
        "id": "X3OFm9_LKKdR"
      },
      "source": [
        "Let's first import the library for seaborn under the alias sns:"
      ]
    },
    {
      "cell_type": "code",
      "execution_count": null,
      "metadata": {
        "id": "ghg0flCUytpS"
      },
      "outputs": [],
      "source": [
        "import seaborn as sns"
      ]
    },
    {
      "cell_type": "markdown",
      "metadata": {
        "id": "9kT_EQIkKKdS"
      },
      "source": [
        "Let's import a csv file - comma-seperated values - that details the total bill costs and the tips. We'll run a scatterplot on this data:"
      ]
    },
    {
      "cell_type": "code",
      "execution_count": null,
      "metadata": {
        "colab": {
          "base_uri": "https://localhost:8080/",
          "height": 280
        },
        "id": "bx-QuQQ3KKdT",
        "outputId": "c97c2a2a-be2c-4b8b-815a-f44c00ab7f38"
      },
      "outputs": [
        {
          "data": {
            "image/png": "[encoded data removed]",
            "text/plain": [
              "<Figure size 432x288 with 1 Axes>"
            ]
          },
          "metadata": {
            "needs_background": "light"
          },
          "output_type": "display_data"
        }
      ],
      "source": [
        "# Run this code to import the data and read it in using 'pd.read_csv('file')'\n",
        "tips = pd.read_csv('tips.csv')\n",
        "ax = sns.scatterplot(x=\"total_bill\", y=\"tip\", data=tips) #plotting it"
      ]
    },
    {
      "cell_type": "markdown",
      "metadata": {
        "id": "gUDdScq-KKdU"
      },
      "source": [
        "The scatterplot above does not discriminate between the days of the week. What if we wanted to see the distribution of the data for each day? \n",
        "<br> \n",
        "For this, we can consider using a categorical scatterplot with the **.catplot()** method. "
      ]
    },
    {
      "cell_type": "code",
      "execution_count": null,
      "metadata": {
        "colab": {
          "base_uri": "https://localhost:8080/",
          "height": 368
        },
        "id": "zw8v_e-hKKdU",
        "outputId": "d01424b3-03fb-45da-e8d5-f24eb3b83566"
      },
      "outputs": [
        {
          "data": {
            "image/png": "[encoded data removed]",
            "text/plain": [
              "<Figure size 360x360 with 1 Axes>"
            ]
          },
          "metadata": {
            "needs_background": "light"
          },
          "output_type": "display_data"
        }
      ],
      "source": [
        "sns.catplot(x=\"day\", y=\"total_bill\", data=tips);"
      ]
    },
    {
      "cell_type": "markdown",
      "metadata": {
        "id": "6W0Rxlt1KKdW"
      },
      "source": [
        "We can go even further! How about we try sorting the time of the day that the customer dined at the restaraunt? Let's use the swarm parameter to prevent the points from overlapping and group by time:"
      ]
    },
    {
      "cell_type": "code",
      "execution_count": null,
      "metadata": {
        "colab": {
          "base_uri": "https://localhost:8080/",
          "height": 368
        },
        "id": "vp3BnS7UKKdW",
        "outputId": "5d9118e7-1dcb-4908-ea45-7cdecf21173d"
      },
      "outputs": [
        {
          "data": {
            "image/png": "[encoded data removed]",
            "text/plain": [
              "<Figure size 429.625x360 with 1 Axes>"
            ]
          },
          "metadata": {
            "needs_background": "light"
          },
          "output_type": "display_data"
        }
      ],
      "source": [
        "sns.catplot(x=\"total_bill\", y=\"day\", hue=\"time\", kind=\"swarm\", data=tips);"
      ]
    },
    {
      "cell_type": "markdown",
      "metadata": {
        "id": "Aij7Gu_lKKdX"
      },
      "source": [
        "To reiterate, the *hue* parameter allows us to add another dimension to group data by color. The *Swarm* parameter helps us to visualize the data more clearly by preventing overlapping points (as opposed to catplot where points with the same data values will lie on top of each other)."
      ]
    },
    {
      "cell_type": "markdown",
      "metadata": {
        "id": "xR4_GYXdKKdX"
      },
      "source": [
        "## Exercise: Seaborn 🐳"
      ]
    },
    {
      "cell_type": "markdown",
      "metadata": {
        "id": "0VYlmLfKKKdX"
      },
      "source": [
        "Time for one of our last exercises!"
      ]
    },
    {
      "cell_type": "markdown",
      "metadata": {
        "id": "tE5KW2hJKKdX"
      },
      "source": [
        "- Create a simple scatterplot comparing size of tip vs. size of table. "
      ]
    },
    {
      "cell_type": "code",
      "execution_count": null,
      "metadata": {
        "id": "CBA9c0zJ139G"
      },
      "outputs": [],
      "source": [
        "# YOUR CODE HERE #"
      ]
    },
    {
      "cell_type": "markdown",
      "metadata": {
        "id": "FuPzuDVVKKdX"
      },
      "source": [
        "# Scikit-Learn: A Small Preview 👀"
      ]
    },
    {
      "cell_type": "markdown",
      "metadata": {
        "id": "DVRl5hoNKKdY"
      },
      "source": [
        "**Scikit-learn** is a free software machine learning library for the Python programming language. It features various classification, regression and clustering algorithms including support vector machines, random forests, gradient boosting, k-means and DBSCAN, and is designed to interoperate with the Python numerical and scientific libraries NumPy and SciPy. Official website: https://scikit-learn.org/ <br>\n",
        "We'll be building a simple linear regression in Scikit-Learn to demonstrate how the library works at the base level. "
      ]
    },
    {
      "cell_type": "markdown",
      "metadata": {
        "id": "V7BLSrIJKKdY"
      },
      "source": [
        "## Sneak Peak: Linear Regression 🏡"
      ]
    },
    {
      "cell_type": "markdown",
      "metadata": {
        "id": "NOwFVD4iKKdY"
      },
      "source": [
        "Linear regression is a linear approach to modeling a relationship between an response variable and an explanatory variable. We will study this in detail tomorrow!\n",
        "\n",
        "We'll create a small model that predicts the relationship between expected and true housing prices using the Boston Housing Dataset:"
      ]
    },
    {
      "cell_type": "markdown",
      "metadata": {
        "id": "kTMMlpXQKKdY"
      },
      "source": [
        "## Import 📦 "
      ]
    },
    {
      "cell_type": "code",
      "execution_count": null,
      "metadata": {
        "colab": {
          "base_uri": "https://localhost:8080/"
        },
        "id": "enQickNWKKdY",
        "outputId": "f1afbff8-73d4-4fdc-976e-1c02b39899e5"
      },
      "outputs": [
        {
          "name": "stderr",
          "output_type": "stream",
          "text": [
            "/usr/local/lib/python3.7/dist-packages/sklearn/utils/deprecation.py:87: FutureWarning: Function load_boston is deprecated; `load_boston` is deprecated in 1.0 and will be removed in 1.2.\n",
            "\n",
            "    The Boston housing prices dataset has an ethical problem. You can refer to\n",
            "    the documentation of this function for further details.\n",
            "\n",
            "    The scikit-learn maintainers therefore strongly discourage the use of this\n",
            "    dataset unless the purpose of the code is to study and educate about\n",
            "    ethical issues in data science and machine learning.\n",
            "\n",
            "    In this special case, you can fetch the dataset from the original\n",
            "    source::\n",
            "\n",
            "        import pandas as pd\n",
            "        import numpy as np\n",
            "\n",
            "\n",
            "        data_url = \"http://lib.stat.cmu.edu/datasets/boston\"\n",
            "        raw_df = pd.read_csv(data_url, sep=\"\\s+\", skiprows=22, header=None)\n",
            "        data = np.hstack([raw_df.values[::2, :], raw_df.values[1::2, :2]])\n",
            "        target = raw_df.values[1::2, 2]\n",
            "\n",
            "    Alternative datasets include the California housing dataset (i.e.\n",
            "    :func:`~sklearn.datasets.fetch_california_housing`) and the Ames housing\n",
            "    dataset. You can load the datasets as follows::\n",
            "\n",
            "        from sklearn.datasets import fetch_california_housing\n",
            "        housing = fetch_california_housing()\n",
            "\n",
            "    for the California housing dataset and::\n",
            "\n",
            "        from sklearn.datasets import fetch_openml\n",
            "        housing = fetch_openml(name=\"house_prices\", as_frame=True)\n",
            "\n",
            "    for the Ames housing dataset.\n",
            "    \n",
            "  warnings.warn(msg, category=FutureWarning)\n"
          ]
        }
      ],
      "source": [
        "from sklearn.model_selection import train_test_split\n",
        "from sklearn.linear_model import LinearRegression\n",
        "from sklearn.datasets import load_boston\n",
        "data = load_boston()"
      ]
    },
    {
      "cell_type": "markdown",
      "metadata": {
        "id": "7Nq4Vr79tPmD"
      },
      "source": [
        "### What is this data?"
      ]
    },
    {
      "cell_type": "code",
      "execution_count": null,
      "metadata": {
        "colab": {
          "base_uri": "https://localhost:8080/"
        },
        "id": "XATXaddItSKK",
        "outputId": "5f483bf0-7603-4560-bf7d-ed49897a38a6"
      },
      "outputs": [
        {
          "name": "stdout",
          "output_type": "stream",
          "text": [
            ".. _boston_dataset:\n",
            "\n",
            "Boston house prices dataset\n",
            "---------------------------\n",
            "\n",
            "**Data Set Characteristics:**  \n",
            "\n",
            "    :Number of Instances: 506 \n",
            "\n",
            "    :Number of Attributes: 13 numeric/categorical predictive. Median Value (attribute 14) is usually the target.\n",
            "\n",
            "    :Attribute Information (in order):\n",
            "        - CRIM     per capita crime rate by town\n",
            "        - ZN       proportion of residential land zoned for lots over 25,000 sq.ft.\n",
            "        - INDUS    proportion of non-retail business acres per town\n",
            "        - CHAS     Charles River dummy variable (= 1 if tract bounds river; 0 otherwise)\n",
            "        - NOX      nitric oxides concentration (parts per 10 million)\n",
            "        - RM       average number of rooms per dwelling\n",
            "        - AGE      proportion of owner-occupied units built prior to 1940\n",
            "        - DIS      weighted distances to five Boston employment centres\n",
            "        - RAD      index of accessibility to radial highways\n",
            "        - TAX      full-value property-tax rate per $10,000\n",
            "        - PTRATIO  pupil-teacher ratio by town\n",
            "        - B        1000(Bk - 0.63)^2 where Bk is the proportion of black people by town\n",
            "        - LSTAT    % lower status of the population\n",
            "        - MEDV     Median value of owner-occupied homes in $1000's\n",
            "\n",
            "    :Missing Attribute Values: None\n",
            "\n",
            "    :Creator: Harrison, D. and Rubinfeld, D.L.\n",
            "\n",
            "This is a copy of UCI ML housing dataset.\n",
            "https://archive.ics.uci.edu/ml/machine-\n"
          ]
        }
      ],
      "source": [
        "# Print the description of the dataset (first 1500 characters)\n",
        "print(data.DESCR[:1400])"
      ]
    },
    {
      "cell_type": "code",
      "execution_count": null,
      "metadata": {
        "colab": {
          "base_uri": "https://localhost:8080/"
        },
        "id": "TJqB1X3AuLyz",
        "outputId": "c462c1fd-4d7c-4799-d126-27d546e98977"
      },
      "outputs": [
        {
          "name": "stdout",
          "output_type": "stream",
          "text": [
            "House 1, attributes:  [6.320e-03 1.800e+01 2.310e+00 0.000e+00 5.380e-01 6.575e+00 6.520e+01\n",
            " 4.090e+00 1.000e+00 2.960e+02 1.530e+01 3.969e+02 4.980e+00]\n",
            "House 1, price:  24.0\n"
          ]
        }
      ],
      "source": [
        "# data.data are all the houses with their attributes.\n",
        "# data.target are the corresponding house prices\n",
        " \n",
        "print(\"House 1, attributes: \", data.data[0])\n",
        "\n",
        "# Show the actual price for these 2 houses\n",
        "print(\"House 1, price: \", data.target[0])"
      ]
    },
    {
      "cell_type": "markdown",
      "metadata": {
        "id": "j5vaztG9KKdZ"
      },
      "source": [
        "## Train and Define 🚂 "
      ]
    },
    {
      "cell_type": "markdown",
      "metadata": {
        "id": "uEd9diyUKKdZ"
      },
      "source": [
        "We're going to define our X-axis and Y-axis and fit the model to a Linear Regression model."
      ]
    },
    {
      "cell_type": "code",
      "execution_count": null,
      "metadata": {
        "id": "rjwnl-z6KKdZ"
      },
      "outputs": [],
      "source": [
        "X_train, X_test, y_train, y_test = train_test_split(data.data, data.target)\n",
        "clf = LinearRegression()\n",
        "clf.fit(X_train, y_train)\n",
        "predicted = clf.predict(X_test)\n",
        "expected = y_test"
      ]
    },
    {
      "cell_type": "markdown",
      "metadata": {
        "id": "0QdXhrp6KKdZ"
      },
      "source": [
        "## Plot 📊"
      ]
    },
    {
      "cell_type": "code",
      "execution_count": null,
      "metadata": {
        "colab": {
          "base_uri": "https://localhost:8080/",
          "height": 224
        },
        "id": "hPaS2_nvKKdZ",
        "outputId": "56db4601-5470-43c5-8983-ea652cda5860"
      },
      "outputs": [
        {
          "data": {
            "image/png": "[encoded data removed]",
            "text/plain": [
              "<Figure size 288x216 with 1 Axes>"
            ]
          },
          "metadata": {
            "needs_background": "light"
          },
          "output_type": "display_data"
        }
      ],
      "source": [
        "plt.figure(figsize=(4, 3))\n",
        "plt.scatter(expected, predicted)\n",
        "plt.plot([0, 50], [0, 50], '--k')\n",
        "plt.axis('tight')\n",
        "plt.xlabel('True price ($1000s)')\n",
        "plt.ylabel('Predicted price ($1000s)')\n",
        "plt.tight_layout()"
      ]
    },
    {
      "cell_type": "markdown",
      "metadata": {
        "id": "iSHOGMQhKKda"
      },
      "source": [
        "Woo! We've just seen a small preview of what Scikit-learn can do. We have the ability to create an accurate ML model with a few lines of code. \n",
        "\n",
        "We hope you learned something useful, and feel more curious to learn more about AI! "
      ]
    }
  ],
  "metadata": {
    "accelerator": "GPU",
    "colab": {
      "provenance": []
    },
    "kernelspec": {
      "display_name": "Python 3",
      "language": "python",
      "name": "python3"
    },
    "language_info": {
      "codemirror_mode": {
        "name": "ipython",
        "version": 3
      },
      "file_extension": ".py",
      "mimetype": "text/x-python",
      "name": "python",
      "nbconvert_exporter": "python",
      "pygments_lexer": "ipython3",
      "version": "3.10.9 (tags/v3.10.9:1dd9be6, Dec  6 2022, 20:01:21) [MSC v.1934 64 bit (AMD64)]"
    },
    "vscode": {
      "interpreter": {
        "hash": "8d2c4b4a9e1c4adf7f20c52f890e002f4873813853f059b1583d16946984d5a6"
      }
    }
  },
  "nbformat": 4,
  "nbformat_minor": 0
}
